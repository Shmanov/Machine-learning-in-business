{
 "cells": [
  {
   "cell_type": "markdown",
   "metadata": {},
   "source": [
    "### Задание\n",
    "\n",
    "1. Обучить модель на понравившихся данных\n",
    "2. Создать rest api сервис, к которому можно будет обращаться для получения прогнозов"
   ]
  },
  {
   "cell_type": "markdown",
   "metadata": {},
   "source": [
    "### Примерные темы"
   ]
  },
  {
   "cell_type": "markdown",
   "metadata": {},
   "source": [
    "1. Определение токсичности комментария\n",
    "2. Определение стоимости жилья от разных факторов: площадь жилья, удаленность от центра, etc (здесь же куча идей прогнозирования стоимости чего-либо по его описанию)\n",
    "3. Темы новости по ее тексту\n",
    "4. Классификатор рукописных цифр\n",
    "5. Классификатор картинок (например, определение города и страны по снимку улицы)\n",
    "6. Определение вероятности наличия сердечно-сосудистых заболеваний по данным первичного осмотра (или что-то подобное)\n",
    "7. Многое другое (придумайте сами)\n",
    "8. Прогнозирование рейтинга вопроса на stackoverflow - https://www.kaggle.com/imoore/60k-stack-overflow-questions-with-quality-rate\n",
    "9. https://www.kaggle.com/russellyates88/suicide-rates-overview-1985-to-2016\n",
    "10. Тематическое моделирование статей на arxiv - https://www.kaggle.com/Cornell-University/arxiv"
   ]
  },
  {
   "cell_type": "markdown",
   "metadata": {},
   "source": [
    "### Откуда брать данные"
   ]
  },
  {
   "cell_type": "markdown",
   "metadata": {},
   "source": [
    "1. kaggle (https://www.kaggle.com/datasets)\n",
    "2. спарсить самостоятельно, но в этом случае вам может понадобиться разметка (если у вас обучение с учителем)"
   ]
  },
  {
   "cell_type": "code",
   "execution_count": null,
   "metadata": {},
   "outputs": [],
   "source": []
  }
 ],
 "metadata": {
  "kernelspec": {
   "display_name": "Python 3",
   "language": "python",
   "name": "python3"
  },
  "language_info": {
   "codemirror_mode": {
    "name": "ipython",
    "version": 3
   },
   "file_extension": ".py",
   "mimetype": "text/x-python",
   "name": "python",
   "nbconvert_exporter": "python",
   "pygments_lexer": "ipython3",
   "version": "3.8.3"
  }
 },
 "nbformat": 4,
 "nbformat_minor": 2
}
