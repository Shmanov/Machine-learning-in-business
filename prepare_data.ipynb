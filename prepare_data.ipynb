{
 "cells": [
  {
   "cell_type": "code",
   "execution_count": 1,
   "metadata": {},
   "outputs": [
    {
     "name": "stderr",
     "output_type": "stream",
     "text": [
      "/Users/artemzraev/anaconda3/lib/python3.7/site-packages/lightgbm/__init__.py:48: UserWarning: Starting from version 2.2.1, the library file in distribution wheels for macOS is built by the Apple Clang (Xcode_8.3.3) compiler.\n",
      "This means that in case of installing LightGBM from PyPI via the ``pip install lightgbm`` command, you don't need to install the gcc compiler anymore.\n",
      "Instead of that, you need to install the OpenMP library, which is required for running LightGBM on the system with the Apple Clang compiler.\n",
      "You can install the OpenMP library by the following command: ``brew install libomp``.\n",
      "  \"You can install the OpenMP library by the following command: ``brew install libomp``.\", UserWarning)\n"
     ]
    }
   ],
   "source": [
    "import pandas as pd\n",
    "import numpy as np\n",
    "import scipy.sparse\n",
    "\n",
    "from sklearn.feature_extraction import DictVectorizer\n",
    "from sklearn.model_selection import train_test_split\n",
    "from sklearn.feature_extraction.text import TfidfVectorizer\n",
    "from sklearn.feature_extraction.text import CountVectorizer\n",
    "import json\n",
    "\n",
    "from datetime import datetime\n",
    "\n",
    "import lightgbm as lgb\n",
    "import gc"
   ]
  },
  {
   "cell_type": "code",
   "execution_count": 2,
   "metadata": {},
   "outputs": [
    {
     "name": "stderr",
     "output_type": "stream",
     "text": [
      "b'Skipping line 437258: expected 17 fields, saw 20\\n'\n",
      "b'Skipping line 591054: expected 17 fields, saw 20\\n'\n",
      "b'Skipping line 780302: expected 17 fields, saw 20\\n'\n",
      "b'Skipping line 793371: expected 17 fields, saw 20\\n'\n",
      "/Users/artemzraev/anaconda3/lib/python3.7/site-packages/IPython/core/interactiveshell.py:3058: DtypeWarning: Columns (4) have mixed types.Specify dtype option on import or set low_memory=False.\n",
      "  interactivity=interactivity, compiler=compiler, result=result)\n"
     ]
    },
    {
     "data": {
      "text/html": [
       "<div>\n",
       "<style scoped>\n",
       "    .dataframe tbody tr th:only-of-type {\n",
       "        vertical-align: middle;\n",
       "    }\n",
       "\n",
       "    .dataframe tbody tr th {\n",
       "        vertical-align: top;\n",
       "    }\n",
       "\n",
       "    .dataframe thead th {\n",
       "        text-align: right;\n",
       "    }\n",
       "</style>\n",
       "<table border=\"1\" class=\"dataframe\">\n",
       "  <thead>\n",
       "    <tr style=\"text-align: right;\">\n",
       "      <th></th>\n",
       "      <th>edition</th>\n",
       "      <th>title</th>\n",
       "      <th>doc_id</th>\n",
       "    </tr>\n",
       "  </thead>\n",
       "  <tbody>\n",
       "    <tr>\n",
       "      <th>0</th>\n",
       "      <td>Бизнес</td>\n",
       "      <td>Госдума приняла сегодня в первом чтении и сраз...</td>\n",
       "      <td>0</td>\n",
       "    </tr>\n",
       "    <tr>\n",
       "      <th>1</th>\n",
       "      <td>Наука</td>\n",
       "      <td>Японские ученые из физического центра RIKEN за...</td>\n",
       "      <td>1</td>\n",
       "    </tr>\n",
       "    <tr>\n",
       "      <th>2</th>\n",
       "      <td>Армия</td>\n",
       "      <td>Россия готовится расширить свою военную операц...</td>\n",
       "      <td>2</td>\n",
       "    </tr>\n",
       "  </tbody>\n",
       "</table>\n",
       "</div>"
      ],
      "text/plain": [
       "  edition                                              title  doc_id\n",
       "0  Бизнес  Госдума приняла сегодня в первом чтении и сраз...       0\n",
       "1   Наука  Японские ученые из физического центра RIKEN за...       1\n",
       "2   Армия  Россия готовится расширить свою военную операц...       2"
      ]
     },
     "execution_count": 2,
     "metadata": {},
     "output_type": "execute_result"
    }
   ],
   "source": [
    "news = pd.read_csv('gazeta.csv', quotechar='\\\"', \n",
    "                 escapechar='\\\\', \n",
    "                 error_bad_lines=False, nrows=800000)\n",
    "news = news[~news['title'].isnull()][['edition', 'title']]\n",
    "news['doc_id'] = range(len(news))\n",
    "news.index = range(len(news))\n",
    "news.head(3)"
   ]
  },
  {
   "cell_type": "code",
   "execution_count": 3,
   "metadata": {},
   "outputs": [
    {
     "data": {
      "text/plain": [
       "Спорт         318908\n",
       "Общество      163389\n",
       "Бизнес        105377\n",
       "Политика      100214\n",
       "Культура       42290\n",
       "Армия          25522\n",
       "Наука          17258\n",
       "Новости        13251\n",
       "Стиль          12875\n",
       "Мнения           586\n",
       "Авто             314\n",
       "Технологии        16\n",
       "Name: edition, dtype: int64"
      ]
     },
     "execution_count": 3,
     "metadata": {},
     "output_type": "execute_result"
    }
   ],
   "source": [
    "news['edition'].value_counts()"
   ]
  },
  {
   "cell_type": "code",
   "execution_count": 4,
   "metadata": {},
   "outputs": [],
   "source": [
    "news = pd.concat([news[news['edition']==u'Спорт'].iloc[:3000], \n",
    "                  news[news['edition']==u'Политика'].iloc[:3000],\n",
    "                  news[news['edition']==u'Культура'].iloc[:3000], \n",
    "                  news[news['edition']==u'Армия'].iloc[:3000],\n",
    "                  news[news['edition']==u'Стиль'].iloc[:3000], \n",
    "                  news[news['edition']==u'Общество'].iloc[:3000],\n",
    "                  news[news['edition']==u'Бизнес'].iloc[:3000], \n",
    "                  news[news['edition']==u'Новости'].iloc[:3000],\n",
    "                  news[news['edition']==u'Наука'].iloc[:3000]])"
   ]
  },
  {
   "cell_type": "code",
   "execution_count": 5,
   "metadata": {},
   "outputs": [],
   "source": [
    "news[['doc_id', 'title']].to_csv(\"articles.csv\", index=None)"
   ]
  },
  {
   "cell_type": "code",
   "execution_count": null,
   "metadata": {},
   "outputs": [],
   "source": []
  },
  {
   "cell_type": "code",
   "execution_count": 6,
   "metadata": {},
   "outputs": [
    {
     "data": {
      "text/html": [
       "<div>\n",
       "<style scoped>\n",
       "    .dataframe tbody tr th:only-of-type {\n",
       "        vertical-align: middle;\n",
       "    }\n",
       "\n",
       "    .dataframe tbody tr th {\n",
       "        vertical-align: top;\n",
       "    }\n",
       "\n",
       "    .dataframe thead th {\n",
       "        text-align: right;\n",
       "    }\n",
       "</style>\n",
       "<table border=\"1\" class=\"dataframe\">\n",
       "  <thead>\n",
       "    <tr style=\"text-align: right;\">\n",
       "      <th></th>\n",
       "      <th>uid</th>\n",
       "      <th>churn</th>\n",
       "    </tr>\n",
       "  </thead>\n",
       "  <tbody>\n",
       "    <tr>\n",
       "      <th>0</th>\n",
       "      <td>u101000</td>\n",
       "      <td>0</td>\n",
       "    </tr>\n",
       "    <tr>\n",
       "      <th>1</th>\n",
       "      <td>u101001</td>\n",
       "      <td>0</td>\n",
       "    </tr>\n",
       "    <tr>\n",
       "      <th>2</th>\n",
       "      <td>u101002</td>\n",
       "      <td>0</td>\n",
       "    </tr>\n",
       "  </tbody>\n",
       "</table>\n",
       "</div>"
      ],
      "text/plain": [
       "       uid  churn\n",
       "0  u101000      0\n",
       "1  u101001      0\n",
       "2  u101002      0"
      ]
     },
     "execution_count": 6,
     "metadata": {},
     "output_type": "execute_result"
    }
   ],
   "source": [
    "users = [\"u10{}\".format(i) for i in range(1000, 9000)]\n",
    "users = pd.DataFrame({'uid': users, 'churn': [0 for i in range(7000)]+[1 for i in range(1000)]})\n",
    "users.sample(frac=1).to_csv(\"users_churn.csv\", index=None)\n",
    "users.head(3)"
   ]
  },
  {
   "cell_type": "code",
   "execution_count": 7,
   "metadata": {},
   "outputs": [
    {
     "data": {
      "text/plain": [
       "Культура    3000\n",
       "Стиль       3000\n",
       "Политика    3000\n",
       "Общество    3000\n",
       "Наука       3000\n",
       "Спорт       3000\n",
       "Новости     3000\n",
       "Бизнес      3000\n",
       "Армия       3000\n",
       "Name: edition, dtype: int64"
      ]
     },
     "execution_count": 7,
     "metadata": {},
     "output_type": "execute_result"
    }
   ],
   "source": [
    "news['edition'].value_counts()"
   ]
  },
  {
   "cell_type": "code",
   "execution_count": 8,
   "metadata": {},
   "outputs": [],
   "source": [
    "sport = news[news['edition']==u'Спорт']['doc_id'].values\n",
    "politics = news[news['edition']==u'Политика']['doc_id'].values\n",
    "culture = news[news['edition']==u'Культура']['doc_id'].values\n",
    "business = news[news['edition']==u'Бизнес']['doc_id'].values\n",
    "army = news[news['edition']==u'Армия']['doc_id'].values\n",
    "society = news[news['edition']==u'Общество']['doc_id'].values\n",
    "news_ = news[news['edition']==u'Новости']['doc_id'].values\n",
    "science = news[news['edition']==u'Наука']['doc_id'].values"
   ]
  },
  {
   "cell_type": "code",
   "execution_count": null,
   "metadata": {},
   "outputs": [],
   "source": []
  },
  {
   "cell_type": "code",
   "execution_count": 9,
   "metadata": {},
   "outputs": [
    {
     "data": {
      "text/html": [
       "<div>\n",
       "<style scoped>\n",
       "    .dataframe tbody tr th:only-of-type {\n",
       "        vertical-align: middle;\n",
       "    }\n",
       "\n",
       "    .dataframe tbody tr th {\n",
       "        vertical-align: top;\n",
       "    }\n",
       "\n",
       "    .dataframe thead th {\n",
       "        text-align: right;\n",
       "    }\n",
       "</style>\n",
       "<table border=\"1\" class=\"dataframe\">\n",
       "  <thead>\n",
       "    <tr style=\"text-align: right;\">\n",
       "      <th></th>\n",
       "      <th>edition</th>\n",
       "      <th>title</th>\n",
       "      <th>doc_id</th>\n",
       "    </tr>\n",
       "  </thead>\n",
       "  <tbody>\n",
       "    <tr>\n",
       "      <th>6</th>\n",
       "      <td>Спорт</td>\n",
       "      <td>Заместитель председателяnправительства РФnСерг...</td>\n",
       "      <td>6</td>\n",
       "    </tr>\n",
       "    <tr>\n",
       "      <th>4896</th>\n",
       "      <td>Спорт</td>\n",
       "      <td>Матч 1/16 финала Кубка России по футболу был п...</td>\n",
       "      <td>4896</td>\n",
       "    </tr>\n",
       "    <tr>\n",
       "      <th>4897</th>\n",
       "      <td>Спорт</td>\n",
       "      <td>Форвард «Авангарда» Томаш Заборский прокоммент...</td>\n",
       "      <td>4897</td>\n",
       "    </tr>\n",
       "    <tr>\n",
       "      <th>4898</th>\n",
       "      <td>Спорт</td>\n",
       "      <td>Главный тренер «Кубани» Юрий Красножан прокомм...</td>\n",
       "      <td>4898</td>\n",
       "    </tr>\n",
       "    <tr>\n",
       "      <th>4899</th>\n",
       "      <td>Спорт</td>\n",
       "      <td>Решением попечительского совета владивостокско...</td>\n",
       "      <td>4899</td>\n",
       "    </tr>\n",
       "    <tr>\n",
       "      <th>...</th>\n",
       "      <td>...</td>\n",
       "      <td>...</td>\n",
       "      <td>...</td>\n",
       "    </tr>\n",
       "    <tr>\n",
       "      <th>513441</th>\n",
       "      <td>Наука</td>\n",
       "      <td>Ученые Токийского университета морских наук и ...</td>\n",
       "      <td>513441</td>\n",
       "    </tr>\n",
       "    <tr>\n",
       "      <th>513442</th>\n",
       "      <td>Наука</td>\n",
       "      <td>Главой кафедры отечественной истории XX века и...</td>\n",
       "      <td>513442</td>\n",
       "    </tr>\n",
       "    <tr>\n",
       "      <th>513443</th>\n",
       "      <td>Наука</td>\n",
       "      <td>Американские ученые уточнили возраст расположе...</td>\n",
       "      <td>513443</td>\n",
       "    </tr>\n",
       "    <tr>\n",
       "      <th>513444</th>\n",
       "      <td>Наука</td>\n",
       "      <td>За последние 50 лет тропический углеродный цик...</td>\n",
       "      <td>513444</td>\n",
       "    </tr>\n",
       "    <tr>\n",
       "      <th>513445</th>\n",
       "      <td>Наука</td>\n",
       "      <td>У живших примерно 7 тыс. лет назад на территор...</td>\n",
       "      <td>513445</td>\n",
       "    </tr>\n",
       "  </tbody>\n",
       "</table>\n",
       "<p>27000 rows × 3 columns</p>\n",
       "</div>"
      ],
      "text/plain": [
       "       edition                                              title  doc_id\n",
       "6        Спорт  Заместитель председателяnправительства РФnСерг...       6\n",
       "4896     Спорт  Матч 1/16 финала Кубка России по футболу был п...    4896\n",
       "4897     Спорт  Форвард «Авангарда» Томаш Заборский прокоммент...    4897\n",
       "4898     Спорт  Главный тренер «Кубани» Юрий Красножан прокомм...    4898\n",
       "4899     Спорт  Решением попечительского совета владивостокско...    4899\n",
       "...        ...                                                ...     ...\n",
       "513441   Наука  Ученые Токийского университета морских наук и ...  513441\n",
       "513442   Наука  Главой кафедры отечественной истории XX века и...  513442\n",
       "513443   Наука  Американские ученые уточнили возраст расположе...  513443\n",
       "513444   Наука  За последние 50 лет тропический углеродный цик...  513444\n",
       "513445   Наука  У живших примерно 7 тыс. лет назад на территор...  513445\n",
       "\n",
       "[27000 rows x 3 columns]"
      ]
     },
     "execution_count": 9,
     "metadata": {},
     "output_type": "execute_result"
    }
   ],
   "source": [
    "news"
   ]
  },
  {
   "cell_type": "code",
   "execution_count": 11,
   "metadata": {},
   "outputs": [],
   "source": [
    "total = []\n",
    "for i in range(2000):\n",
    "    q = np.random.choice(sport, 5).tolist()+np.random.choice(science, 1).tolist()\n",
    "    total.append(q)\n",
    "for i in range(2000):\n",
    "    q = np.random.choice(politics, 5).tolist()+np.random.choice(news_, 1).tolist()\n",
    "    total.append(q)\n",
    "for i in range(1000):\n",
    "    q = np.random.choice(culture, 5).tolist()+np.random.choice(society, 1).tolist()\n",
    "    total.append(q)\n",
    "for i in range(1000):\n",
    "    q = np.random.choice(politics, 5).tolist()+np.random.choice(society, 1).tolist()\n",
    "    total.append(q)\n",
    "for i in range(1000):\n",
    "    q = np.random.choice(politics, 5).tolist()+np.random.choice(army, 1).tolist()\n",
    "    total.append(q)\n",
    "for i in range(1000):\n",
    "    q = np.random.choice(society, 5).tolist()+np.random.choice(politics, 1).tolist()\n",
    "    total.append(q)"
   ]
  },
  {
   "cell_type": "code",
   "execution_count": 12,
   "metadata": {},
   "outputs": [],
   "source": [
    "pd.DataFrame({'uid': [\"u10{}\".format(i) for i in range(1000, 9000)], \n",
    "              'articles': total}).sample(frac=1).to_csv(\"users_articles.csv\", index=None)"
   ]
  },
  {
   "cell_type": "code",
   "execution_count": null,
   "metadata": {},
   "outputs": [],
   "source": []
  },
  {
   "cell_type": "code",
   "execution_count": 13,
   "metadata": {},
   "outputs": [
    {
     "data": {
      "text/html": [
       "<div>\n",
       "<style scoped>\n",
       "    .dataframe tbody tr th:only-of-type {\n",
       "        vertical-align: middle;\n",
       "    }\n",
       "\n",
       "    .dataframe tbody tr th {\n",
       "        vertical-align: top;\n",
       "    }\n",
       "\n",
       "    .dataframe thead th {\n",
       "        text-align: right;\n",
       "    }\n",
       "</style>\n",
       "<table border=\"1\" class=\"dataframe\">\n",
       "  <thead>\n",
       "    <tr style=\"text-align: right;\">\n",
       "      <th></th>\n",
       "      <th>edition</th>\n",
       "      <th>title</th>\n",
       "      <th>doc_id</th>\n",
       "    </tr>\n",
       "  </thead>\n",
       "  <tbody>\n",
       "  </tbody>\n",
       "</table>\n",
       "</div>"
      ],
      "text/plain": [
       "Empty DataFrame\n",
       "Columns: [edition, title, doc_id]\n",
       "Index: []"
      ]
     },
     "execution_count": 13,
     "metadata": {},
     "output_type": "execute_result"
    }
   ],
   "source": [
    "news[news['doc_id']==492909]"
   ]
  },
  {
   "cell_type": "code",
   "execution_count": 14,
   "metadata": {},
   "outputs": [
    {
     "data": {
      "text/html": [
       "<div>\n",
       "<style scoped>\n",
       "    .dataframe tbody tr th:only-of-type {\n",
       "        vertical-align: middle;\n",
       "    }\n",
       "\n",
       "    .dataframe tbody tr th {\n",
       "        vertical-align: top;\n",
       "    }\n",
       "\n",
       "    .dataframe thead th {\n",
       "        text-align: right;\n",
       "    }\n",
       "</style>\n",
       "<table border=\"1\" class=\"dataframe\">\n",
       "  <thead>\n",
       "    <tr style=\"text-align: right;\">\n",
       "      <th></th>\n",
       "      <th>uid</th>\n",
       "      <th>articles</th>\n",
       "    </tr>\n",
       "  </thead>\n",
       "  <tbody>\n",
       "    <tr>\n",
       "      <th>4263</th>\n",
       "      <td>u105263</td>\n",
       "      <td>[295284, 294492, 290056, 294886, 293817, 1093]</td>\n",
       "    </tr>\n",
       "    <tr>\n",
       "      <th>1873</th>\n",
       "      <td>u102873</td>\n",
       "      <td>[5780, 5117, 7010, 7823, 6333, 513172]</td>\n",
       "    </tr>\n",
       "    <tr>\n",
       "      <th>6613</th>\n",
       "      <td>u107613</td>\n",
       "      <td>[323409, 324675, 323532, 324015, 322666, 470715]</td>\n",
       "    </tr>\n",
       "    <tr>\n",
       "      <th>7198</th>\n",
       "      <td>u108198</td>\n",
       "      <td>[2579, 1864, 2312, 703, 2540, 322150]</td>\n",
       "    </tr>\n",
       "    <tr>\n",
       "      <th>5301</th>\n",
       "      <td>u106301</td>\n",
       "      <td>[323951, 322288, 323440, 323377, 323651, 2416]</td>\n",
       "    </tr>\n",
       "    <tr>\n",
       "      <th>...</th>\n",
       "      <td>...</td>\n",
       "      <td>...</td>\n",
       "    </tr>\n",
       "    <tr>\n",
       "      <th>7934</th>\n",
       "      <td>u108934</td>\n",
       "      <td>[3322, 2279, 1202, 1819, 666, 324212]</td>\n",
       "    </tr>\n",
       "    <tr>\n",
       "      <th>4646</th>\n",
       "      <td>u105646</td>\n",
       "      <td>[295249, 293955, 293981, 295057, 294737, 620]</td>\n",
       "    </tr>\n",
       "    <tr>\n",
       "      <th>2274</th>\n",
       "      <td>u103274</td>\n",
       "      <td>[324294, 323729, 322282, 322723, 322368, 513324]</td>\n",
       "    </tr>\n",
       "    <tr>\n",
       "      <th>3977</th>\n",
       "      <td>u104977</td>\n",
       "      <td>[324098, 322637, 322263, 323564, 323256, 519863]</td>\n",
       "    </tr>\n",
       "    <tr>\n",
       "      <th>1056</th>\n",
       "      <td>u102056</td>\n",
       "      <td>[7783, 7280, 4981, 5412, 6208, 511522]</td>\n",
       "    </tr>\n",
       "  </tbody>\n",
       "</table>\n",
       "<p>8000 rows × 2 columns</p>\n",
       "</div>"
      ],
      "text/plain": [
       "          uid                                          articles\n",
       "4263  u105263    [295284, 294492, 290056, 294886, 293817, 1093]\n",
       "1873  u102873            [5780, 5117, 7010, 7823, 6333, 513172]\n",
       "6613  u107613  [323409, 324675, 323532, 324015, 322666, 470715]\n",
       "7198  u108198             [2579, 1864, 2312, 703, 2540, 322150]\n",
       "5301  u106301    [323951, 322288, 323440, 323377, 323651, 2416]\n",
       "...       ...                                               ...\n",
       "7934  u108934             [3322, 2279, 1202, 1819, 666, 324212]\n",
       "4646  u105646     [295249, 293955, 293981, 295057, 294737, 620]\n",
       "2274  u103274  [324294, 323729, 322282, 322723, 322368, 513324]\n",
       "3977  u104977  [324098, 322637, 322263, 323564, 323256, 519863]\n",
       "1056  u102056            [7783, 7280, 4981, 5412, 6208, 511522]\n",
       "\n",
       "[8000 rows x 2 columns]"
      ]
     },
     "execution_count": 14,
     "metadata": {},
     "output_type": "execute_result"
    }
   ],
   "source": [
    "pd.DataFrame({'uid': [\"u10{}\".format(i) for i in range(1000, 9000)], \n",
    "              'articles': total}).sample(frac=1)"
   ]
  },
  {
   "cell_type": "code",
   "execution_count": null,
   "metadata": {},
   "outputs": [],
   "source": []
  },
  {
   "cell_type": "code",
   "execution_count": null,
   "metadata": {},
   "outputs": [],
   "source": []
  }
 ],
 "metadata": {
  "kernelspec": {
   "display_name": "Python 3",
   "language": "python",
   "name": "python3"
  },
  "language_info": {
   "codemirror_mode": {
    "name": "ipython",
    "version": 3
   },
   "file_extension": ".py",
   "mimetype": "text/x-python",
   "name": "python",
   "nbconvert_exporter": "python",
   "pygments_lexer": "ipython3",
   "version": "3.7.3"
  }
 },
 "nbformat": 4,
 "nbformat_minor": 2
}
