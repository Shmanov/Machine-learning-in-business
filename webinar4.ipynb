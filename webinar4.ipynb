{
 "cells": [
  {
   "cell_type": "markdown",
   "metadata": {},
   "source": [
    "### Задача uplift-моделирования"
   ]
  },
  {
   "cell_type": "markdown",
   "metadata": {},
   "source": [
    "### План занятия\n",
    "\n",
    "* Введение: коммуникация с пользователями\n",
    "* Дизайн эксперимента\n",
    "* Типы клиентов\n",
    "* Одна модель с дополнительным признаком\n",
    "* Вариант с двумя независимыми моделями\n",
    "* Вариант с двумя зависимыми моделями\n",
    "* Прямой расчет uplift: \"деревянные\" модели\n",
    "* Ссылки"
   ]
  },
  {
   "cell_type": "markdown",
   "metadata": {},
   "source": [
    "### Введение\n",
    "\n",
    "Часто возникает необходимость коммуникации с пользователями для продвижения сервисов и услуг.\n",
    "\n",
    "Коммуникация осуществляется с помощью различных каналов: смс, звонки, push-уведомления, сообщения в чатботе и т.д\n",
    "\n",
    "Например, мы хотим отправить push-уведомление игрокам в мобильной игре о том, что у них заполнились склады или об ином внутриигровом событии. Либо даже хотим отправить уведомление о наступающем внутриигровом эвенте (которые очень важны для активных игроков и для монетизации и развития игры в целом)."
   ]
  },
  {
   "cell_type": "markdown",
   "metadata": {},
   "source": [
    "Другой пример:\n",
    "\n",
    "Мы хотим прорекламировать популярный продукт, но при этом не хотим тратить бюджет на коммуникацию с пользователями, которые и без нас его купят. "
   ]
  },
  {
   "cell_type": "markdown",
   "metadata": {},
   "source": [
    "Изначально вопрос у нас такой: <b>Какова вероятность, что пользователь совершит нужное нам действие?</b>\n",
    "\n",
    "Но нам нужен ответ не на него."
   ]
  },
  {
   "cell_type": "markdown",
   "metadata": {},
   "source": [
    "### Пример - задача прогнозирования оттока\n",
    "\n",
    "Подробно задачу будем разбирать на следующем занятии, но давайте договоримся, что решать мы ее уже умеем.\n",
    "\n",
    "Т.е мы для пользователей нашего сервиса можем посчитать вероятность ухода в отток."
   ]
  },
  {
   "cell_type": "markdown",
   "metadata": {},
   "source": [
    "![ab_split](churn.png \"churn1\")"
   ]
  },
  {
   "cell_type": "markdown",
   "metadata": {},
   "source": [
    "Мы можем для пользователя определить вероятность:\n",
    "\n",
    "P(User)"
   ]
  },
  {
   "cell_type": "markdown",
   "metadata": {},
   "source": [
    "Мы хотим удерживать наших пользователей, которые чем-то недовольны или несчастны и хотим им предложить более выгодные условия подписки или тарифа (например, если мы - мобильный оператор, то мы можем предложить нашим абонентам более выгодный тариф).\n",
    "\n",
    "Хорошо, мы можем отобрать из нашей аудитории наиболее \"несчастных\". Почему бы просто не сделать им предложение? В чем проблема? "
   ]
  },
  {
   "cell_type": "markdown",
   "metadata": {},
   "source": [
    "Проблема в том, что разные пользователи реагируют на коммуникацию по-разному и каждое взаимодействие стоит для нас денег."
   ]
  },
  {
   "cell_type": "markdown",
   "metadata": {},
   "source": [
    "И еще проблема - <b>наша модель неидеальна!</b>"
   ]
  },
  {
   "cell_type": "markdown",
   "metadata": {},
   "source": [
    "#### Типы пользователей по реакции на коммуникацию"
   ]
  },
  {
   "cell_type": "markdown",
   "metadata": {},
   "source": [
    "![ab_split](uplift_client_types.png \"uplift_client_types\")"
   ]
  },
  {
   "cell_type": "markdown",
   "metadata": {},
   "source": [
    "1. Пользователи, которые совершат нужное действие независимо от коммуникации\n",
    "2. Те, кто совершат действие, если будет коммуникация\n",
    "3. Те, кто не совершит действие независимо от коммуникации\n",
    "4. Не совершат действие, если коммуникация будет"
   ]
  },
  {
   "cell_type": "markdown",
   "metadata": {},
   "source": [
    "Для оптимизации эффекта от воздействия хочется посчитать разницу реакций пользователя при наличии коммуникации и при ее отсутствии. \n",
    "\n",
    "Проблема в том, что мы не можем одновременно совершить коммуникацию и не совершить коммуникацию."
   ]
  },
  {
   "cell_type": "markdown",
   "metadata": {},
   "source": [
    "![ab_split](uplift2.png \"uplift_cats\")"
   ]
  },
  {
   "cell_type": "markdown",
   "metadata": {},
   "source": [
    "Что же делать?"
   ]
  },
  {
   "cell_type": "markdown",
   "metadata": {},
   "source": [
    "Необходимо оценить разницу между двумя событиями, которые являются взаимоисключающими для конкретного пользователя.\n",
    "\n",
    "Для этого нам нужна обучающая выборка. А для нее нужно просто провести эксперимент. \n",
    "\n",
    "1. Берем часть базы пользователей и разбиваем на 2 группы: контрольную и экспериментальную\n",
    "2. На экспериментальной группе запускаем маркетинговую кампанию (совершаем коммуникацию)\n",
    "3. Через какое-то время у нас есть результаты совершения нужного действия клиентами в обеих группах (включая контрольную)\n",
    "4. Проводим uplift-моделирование"
   ]
  },
  {
   "cell_type": "markdown",
   "metadata": {},
   "source": [
    "![ab_split](uplift_3.png \"uplift3\")"
   ]
  },
  {
   "cell_type": "markdown",
   "metadata": {},
   "source": [
    "![ab_split](uplift_scheme.png \"uplift_scheme\")"
   ]
  },
  {
   "cell_type": "markdown",
   "metadata": {},
   "source": [
    "*взято из https://habr.com/ru/company/ru_mts/blog/485980/"
   ]
  },
  {
   "cell_type": "markdown",
   "metadata": {},
   "source": [
    "### Пример модели с дополнительным признаком"
   ]
  },
  {
   "cell_type": "markdown",
   "metadata": {},
   "source": [
    "Другие названия: Treatment Dummy approach, Solo model approach, Single model approach, S-Learner "
   ]
  },
  {
   "cell_type": "markdown",
   "metadata": {},
   "source": [
    "![ab_split](uplift_single_model.png \"uplift_single_model\")"
   ]
  },
  {
   "cell_type": "markdown",
   "metadata": {},
   "source": [
    "### Две независимые модели"
   ]
  },
  {
   "cell_type": "markdown",
   "metadata": {},
   "source": [
    "Другие названия: Two models approach, T-learner, difference two models"
   ]
  },
  {
   "cell_type": "markdown",
   "metadata": {},
   "source": [
    "Интуитивно понятный и простой метод - моделируем 2 условные вероятности\n",
    "\n",
    "1. обучаем модель прогноза вероятности совершения целевого действия для контрольной группы\n",
    "2. обучаем модель прогноза вероятности совершения целевого действия для экспериментальной группы\n",
    "3. на прогнозе - делаем прогноз для тестовых пользователей двумя моделями и вычитаем из прогноза второй модели прогноз первой"
   ]
  },
  {
   "cell_type": "markdown",
   "metadata": {},
   "source": [
    "![ab_split](uplift_2models.png \"uplift_2models\")"
   ]
  },
  {
   "cell_type": "markdown",
   "metadata": {},
   "source": [
    "p(y=1|w=1), p(y=1|w=0)"
   ]
  },
  {
   "cell_type": "code",
   "execution_count": null,
   "metadata": {},
   "outputs": [],
   "source": []
  },
  {
   "cell_type": "code",
   "execution_count": null,
   "metadata": {},
   "outputs": [],
   "source": []
  },
  {
   "cell_type": "markdown",
   "metadata": {},
   "source": [
    "### Практический пример с соревнования X5 \n",
    "\n",
    "http://retailhero.ai/#rec141268104"
   ]
  },
  {
   "cell_type": "markdown",
   "metadata": {},
   "source": [
    "Импортируем нужные библиотеки и предобработаем данные:"
   ]
  },
  {
   "cell_type": "code",
   "execution_count": 62,
   "metadata": {},
   "outputs": [],
   "source": [
    "%matplotlib inline\n",
    "\n",
    "import pandas as pd; pd.set_option('display.max_columns', None)\n",
    "from sklearn.model_selection import train_test_split\n",
    "\n",
    "\n",
    "# Чтение данных\n",
    "df_clients = pd.read_csv('uplift_data/clients.csv', index_col='client_id')\n",
    "df_train = pd.read_csv('uplift_data/uplift_train.csv', index_col='client_id')\n",
    "df_test = pd.read_csv('uplift_data/uplift_test.csv', index_col='client_id')\n",
    "\n",
    "# Извлечение признаков\n",
    "df_features = df_clients.copy()\n",
    "df_features['first_issue_time'] = \\\n",
    "    (pd.to_datetime(df_features['first_issue_date'])\n",
    "     - pd.Timestamp('1970-01-01')) // pd.Timedelta('1s')\n",
    "df_features['first_redeem_time'] = \\\n",
    "    (pd.to_datetime(df_features['first_redeem_date'])\n",
    "     - pd.Timestamp('1970-01-01')) // pd.Timedelta('1s')\n",
    "df_features['issue_redeem_delay'] = df_features['first_redeem_time'] \\\n",
    "    - df_features['first_issue_time']\n",
    "df_features = df_features.drop(['first_issue_date', 'first_redeem_date'], axis=1)\n",
    "\n",
    "indices_train = df_train.index\n",
    "indices_test = df_test.index\n",
    "indices_learn, indices_valid = train_test_split(df_train.index, test_size=0.3, random_state=123)"
   ]
  },
  {
   "cell_type": "code",
   "execution_count": 63,
   "metadata": {},
   "outputs": [
    {
     "data": {
      "text/plain": [
       "Index(['ad6561e2d8', '7c1ccbf93f', 'b58fadcab6', 'e99e6fabb9', '27fb6f8520',\n",
       "       '5e83b02b85', '0c11f1cc19', '376f3823f1', 'd23bdf4939', '42e2573623',\n",
       "       ...\n",
       "       'c46fbe5ad6', '3ad8fa5a5a', 'a589a9e166', 'bbaf800586', 'f899169fa7',\n",
       "       '999d284453', 'f634deea4e', '16cb4f99b0', '23c2b72b2e', '1430184499'],\n",
       "      dtype='object', name='client_id', length=140027)"
      ]
     },
     "execution_count": 63,
     "metadata": {},
     "output_type": "execute_result"
    }
   ],
   "source": [
    "indices_learn"
   ]
  },
  {
   "cell_type": "code",
   "execution_count": 64,
   "metadata": {},
   "outputs": [
    {
     "data": {
      "text/html": [
       "<div>\n",
       "<style scoped>\n",
       "    .dataframe tbody tr th:only-of-type {\n",
       "        vertical-align: middle;\n",
       "    }\n",
       "\n",
       "    .dataframe tbody tr th {\n",
       "        vertical-align: top;\n",
       "    }\n",
       "\n",
       "    .dataframe thead th {\n",
       "        text-align: right;\n",
       "    }\n",
       "</style>\n",
       "<table border=\"1\" class=\"dataframe\">\n",
       "  <thead>\n",
       "    <tr style=\"text-align: right;\">\n",
       "      <th></th>\n",
       "      <th>treatment_flg</th>\n",
       "      <th>target</th>\n",
       "    </tr>\n",
       "    <tr>\n",
       "      <th>client_id</th>\n",
       "      <th></th>\n",
       "      <th></th>\n",
       "    </tr>\n",
       "  </thead>\n",
       "  <tbody>\n",
       "    <tr>\n",
       "      <th>000012768d</th>\n",
       "      <td>0</td>\n",
       "      <td>1</td>\n",
       "    </tr>\n",
       "    <tr>\n",
       "      <th>000036f903</th>\n",
       "      <td>1</td>\n",
       "      <td>1</td>\n",
       "    </tr>\n",
       "    <tr>\n",
       "      <th>00010925a5</th>\n",
       "      <td>1</td>\n",
       "      <td>1</td>\n",
       "    </tr>\n",
       "    <tr>\n",
       "      <th>0001f552b0</th>\n",
       "      <td>1</td>\n",
       "      <td>1</td>\n",
       "    </tr>\n",
       "    <tr>\n",
       "      <th>00020e7b18</th>\n",
       "      <td>1</td>\n",
       "      <td>1</td>\n",
       "    </tr>\n",
       "    <tr>\n",
       "      <th>...</th>\n",
       "      <td>...</td>\n",
       "      <td>...</td>\n",
       "    </tr>\n",
       "    <tr>\n",
       "      <th>fffe0abb97</th>\n",
       "      <td>0</td>\n",
       "      <td>0</td>\n",
       "    </tr>\n",
       "    <tr>\n",
       "      <th>fffe0ed719</th>\n",
       "      <td>0</td>\n",
       "      <td>1</td>\n",
       "    </tr>\n",
       "    <tr>\n",
       "      <th>fffea1204c</th>\n",
       "      <td>0</td>\n",
       "      <td>1</td>\n",
       "    </tr>\n",
       "    <tr>\n",
       "      <th>fffeca6d22</th>\n",
       "      <td>1</td>\n",
       "      <td>0</td>\n",
       "    </tr>\n",
       "    <tr>\n",
       "      <th>fffff6ce77</th>\n",
       "      <td>0</td>\n",
       "      <td>1</td>\n",
       "    </tr>\n",
       "  </tbody>\n",
       "</table>\n",
       "<p>200039 rows × 2 columns</p>\n",
       "</div>"
      ],
      "text/plain": [
       "            treatment_flg  target\n",
       "client_id                        \n",
       "000012768d              0       1\n",
       "000036f903              1       1\n",
       "00010925a5              1       1\n",
       "0001f552b0              1       1\n",
       "00020e7b18              1       1\n",
       "...                   ...     ...\n",
       "fffe0abb97              0       0\n",
       "fffe0ed719              0       1\n",
       "fffea1204c              0       1\n",
       "fffeca6d22              1       0\n",
       "fffff6ce77              0       1\n",
       "\n",
       "[200039 rows x 2 columns]"
      ]
     },
     "execution_count": 64,
     "metadata": {},
     "output_type": "execute_result"
    }
   ],
   "source": [
    "df_train "
   ]
  },
  {
   "cell_type": "code",
   "execution_count": 65,
   "metadata": {
    "scrolled": true
   },
   "outputs": [
    {
     "data": {
      "text/html": [
       "<div>\n",
       "<style scoped>\n",
       "    .dataframe tbody tr th:only-of-type {\n",
       "        vertical-align: middle;\n",
       "    }\n",
       "\n",
       "    .dataframe tbody tr th {\n",
       "        vertical-align: top;\n",
       "    }\n",
       "\n",
       "    .dataframe thead th {\n",
       "        text-align: right;\n",
       "    }\n",
       "</style>\n",
       "<table border=\"1\" class=\"dataframe\">\n",
       "  <thead>\n",
       "    <tr style=\"text-align: right;\">\n",
       "      <th></th>\n",
       "      <th>first_issue_date</th>\n",
       "      <th>first_redeem_date</th>\n",
       "      <th>age</th>\n",
       "      <th>gender</th>\n",
       "    </tr>\n",
       "    <tr>\n",
       "      <th>client_id</th>\n",
       "      <th></th>\n",
       "      <th></th>\n",
       "      <th></th>\n",
       "      <th></th>\n",
       "    </tr>\n",
       "  </thead>\n",
       "  <tbody>\n",
       "    <tr>\n",
       "      <th>000012768d</th>\n",
       "      <td>2017-08-05 15:40:48</td>\n",
       "      <td>2018-01-04 19:30:07</td>\n",
       "      <td>45</td>\n",
       "      <td>U</td>\n",
       "    </tr>\n",
       "    <tr>\n",
       "      <th>000036f903</th>\n",
       "      <td>2017-04-10 13:54:23</td>\n",
       "      <td>2017-04-23 12:37:56</td>\n",
       "      <td>72</td>\n",
       "      <td>F</td>\n",
       "    </tr>\n",
       "    <tr>\n",
       "      <th>000048b7a6</th>\n",
       "      <td>2018-12-15 13:33:11</td>\n",
       "      <td>NaN</td>\n",
       "      <td>68</td>\n",
       "      <td>F</td>\n",
       "    </tr>\n",
       "    <tr>\n",
       "      <th>000073194a</th>\n",
       "      <td>2017-05-23 12:56:14</td>\n",
       "      <td>2017-11-24 11:18:01</td>\n",
       "      <td>60</td>\n",
       "      <td>F</td>\n",
       "    </tr>\n",
       "    <tr>\n",
       "      <th>00007c7133</th>\n",
       "      <td>2017-05-22 16:17:08</td>\n",
       "      <td>2018-12-31 17:17:33</td>\n",
       "      <td>67</td>\n",
       "      <td>U</td>\n",
       "    </tr>\n",
       "    <tr>\n",
       "      <th>...</th>\n",
       "      <td>...</td>\n",
       "      <td>...</td>\n",
       "      <td>...</td>\n",
       "      <td>...</td>\n",
       "    </tr>\n",
       "    <tr>\n",
       "      <th>fffece623e</th>\n",
       "      <td>2018-05-13 15:09:30</td>\n",
       "      <td>2018-12-27 19:06:39</td>\n",
       "      <td>67</td>\n",
       "      <td>U</td>\n",
       "    </tr>\n",
       "    <tr>\n",
       "      <th>ffff3dfff8</th>\n",
       "      <td>2018-11-01 16:06:52</td>\n",
       "      <td>2018-12-07 17:33:47</td>\n",
       "      <td>56</td>\n",
       "      <td>F</td>\n",
       "    </tr>\n",
       "    <tr>\n",
       "      <th>ffffaab9da</th>\n",
       "      <td>2017-08-25 18:43:24</td>\n",
       "      <td>2017-12-08 17:53:19</td>\n",
       "      <td>23</td>\n",
       "      <td>F</td>\n",
       "    </tr>\n",
       "    <tr>\n",
       "      <th>ffffeb5619</th>\n",
       "      <td>2017-12-05 13:26:28</td>\n",
       "      <td>NaN</td>\n",
       "      <td>62</td>\n",
       "      <td>U</td>\n",
       "    </tr>\n",
       "    <tr>\n",
       "      <th>fffff6ce77</th>\n",
       "      <td>2017-08-03 20:25:12</td>\n",
       "      <td>2017-08-26 16:41:41</td>\n",
       "      <td>42</td>\n",
       "      <td>U</td>\n",
       "    </tr>\n",
       "  </tbody>\n",
       "</table>\n",
       "<p>400162 rows × 4 columns</p>\n",
       "</div>"
      ],
      "text/plain": [
       "               first_issue_date    first_redeem_date  age gender\n",
       "client_id                                                       \n",
       "000012768d  2017-08-05 15:40:48  2018-01-04 19:30:07   45      U\n",
       "000036f903  2017-04-10 13:54:23  2017-04-23 12:37:56   72      F\n",
       "000048b7a6  2018-12-15 13:33:11                  NaN   68      F\n",
       "000073194a  2017-05-23 12:56:14  2017-11-24 11:18:01   60      F\n",
       "00007c7133  2017-05-22 16:17:08  2018-12-31 17:17:33   67      U\n",
       "...                         ...                  ...  ...    ...\n",
       "fffece623e  2018-05-13 15:09:30  2018-12-27 19:06:39   67      U\n",
       "ffff3dfff8  2018-11-01 16:06:52  2018-12-07 17:33:47   56      F\n",
       "ffffaab9da  2017-08-25 18:43:24  2017-12-08 17:53:19   23      F\n",
       "ffffeb5619  2017-12-05 13:26:28                  NaN   62      U\n",
       "fffff6ce77  2017-08-03 20:25:12  2017-08-26 16:41:41   42      U\n",
       "\n",
       "[400162 rows x 4 columns]"
      ]
     },
     "execution_count": 65,
     "metadata": {},
     "output_type": "execute_result"
    }
   ],
   "source": [
    "df_clients"
   ]
  },
  {
   "cell_type": "code",
   "execution_count": 66,
   "metadata": {},
   "outputs": [
    {
     "data": {
      "text/html": [
       "<div>\n",
       "<style scoped>\n",
       "    .dataframe tbody tr th:only-of-type {\n",
       "        vertical-align: middle;\n",
       "    }\n",
       "\n",
       "    .dataframe tbody tr th {\n",
       "        vertical-align: top;\n",
       "    }\n",
       "\n",
       "    .dataframe thead th {\n",
       "        text-align: right;\n",
       "    }\n",
       "</style>\n",
       "<table border=\"1\" class=\"dataframe\">\n",
       "  <thead>\n",
       "    <tr style=\"text-align: right;\">\n",
       "      <th></th>\n",
       "    </tr>\n",
       "    <tr>\n",
       "      <th>client_id</th>\n",
       "    </tr>\n",
       "  </thead>\n",
       "  <tbody>\n",
       "    <tr>\n",
       "      <th>000048b7a6</th>\n",
       "    </tr>\n",
       "    <tr>\n",
       "      <th>000073194a</th>\n",
       "    </tr>\n",
       "    <tr>\n",
       "      <th>00007c7133</th>\n",
       "    </tr>\n",
       "  </tbody>\n",
       "</table>\n",
       "</div>"
      ],
      "text/plain": [
       "Empty DataFrame\n",
       "Columns: []\n",
       "Index: [000048b7a6, 000073194a, 00007c7133]"
      ]
     },
     "execution_count": 66,
     "metadata": {},
     "output_type": "execute_result"
    }
   ],
   "source": [
    "df_test.head(3)"
   ]
  },
  {
   "cell_type": "code",
   "execution_count": 67,
   "metadata": {},
   "outputs": [
    {
     "data": {
      "text/html": [
       "<div>\n",
       "<style scoped>\n",
       "    .dataframe tbody tr th:only-of-type {\n",
       "        vertical-align: middle;\n",
       "    }\n",
       "\n",
       "    .dataframe tbody tr th {\n",
       "        vertical-align: top;\n",
       "    }\n",
       "\n",
       "    .dataframe thead th {\n",
       "        text-align: right;\n",
       "    }\n",
       "</style>\n",
       "<table border=\"1\" class=\"dataframe\">\n",
       "  <thead>\n",
       "    <tr style=\"text-align: right;\">\n",
       "      <th></th>\n",
       "      <th>count</th>\n",
       "      <th>mean</th>\n",
       "      <th>std</th>\n",
       "      <th>min</th>\n",
       "      <th>25%</th>\n",
       "      <th>50%</th>\n",
       "      <th>75%</th>\n",
       "      <th>max</th>\n",
       "    </tr>\n",
       "    <tr>\n",
       "      <th>treatment_flg</th>\n",
       "      <th></th>\n",
       "      <th></th>\n",
       "      <th></th>\n",
       "      <th></th>\n",
       "      <th></th>\n",
       "      <th></th>\n",
       "      <th></th>\n",
       "      <th></th>\n",
       "    </tr>\n",
       "  </thead>\n",
       "  <tbody>\n",
       "    <tr>\n",
       "      <th>0</th>\n",
       "      <td>100058.0</td>\n",
       "      <td>0.603280</td>\n",
       "      <td>0.489219</td>\n",
       "      <td>0.0</td>\n",
       "      <td>0.0</td>\n",
       "      <td>1.0</td>\n",
       "      <td>1.0</td>\n",
       "      <td>1.0</td>\n",
       "    </tr>\n",
       "    <tr>\n",
       "      <th>1</th>\n",
       "      <td>99981.0</td>\n",
       "      <td>0.636511</td>\n",
       "      <td>0.481006</td>\n",
       "      <td>0.0</td>\n",
       "      <td>0.0</td>\n",
       "      <td>1.0</td>\n",
       "      <td>1.0</td>\n",
       "      <td>1.0</td>\n",
       "    </tr>\n",
       "  </tbody>\n",
       "</table>\n",
       "</div>"
      ],
      "text/plain": [
       "                  count      mean       std  min  25%  50%  75%  max\n",
       "treatment_flg                                                       \n",
       "0              100058.0  0.603280  0.489219  0.0  0.0  1.0  1.0  1.0\n",
       "1               99981.0  0.636511  0.481006  0.0  0.0  1.0  1.0  1.0"
      ]
     },
     "execution_count": 67,
     "metadata": {},
     "output_type": "execute_result"
    }
   ],
   "source": [
    "df_train.groupby(\"treatment_flg\")['target'].describe()"
   ]
  },
  {
   "cell_type": "markdown",
   "metadata": {},
   "source": [
    "Заведем переменные"
   ]
  },
  {
   "cell_type": "code",
   "execution_count": 137,
   "metadata": {},
   "outputs": [],
   "source": [
    "X_train = df_features.loc[indices_learn, :]\n",
    "y_train = df_train.loc[indices_learn, 'target']\n",
    "treat_train = df_train.loc[indices_learn, 'treatment_flg']\n",
    "\n",
    "X_val = df_features.loc[indices_valid, :]\n",
    "y_val = df_train.loc[indices_valid, 'target']\n",
    "treat_val =  df_train.loc[indices_valid, 'treatment_flg']\n",
    "\n",
    "X_train_full = df_features.loc[indices_train, :]\n",
    "y_train_full = df_train.loc[:, 'target']\n",
    "treat_train_full = df_train.loc[:, 'treatment_flg']\n",
    "\n",
    "X_test = df_features.loc[indices_test, :]\n",
    "\n",
    "cat_features = ['gender']\n",
    "\n",
    "models_results = {\n",
    "    'approach': [],\n",
    "    'uplift@30%': []\n",
    "}"
   ]
  },
  {
   "cell_type": "code",
   "execution_count": 78,
   "metadata": {},
   "outputs": [
    {
     "data": {
      "text/html": [
       "<div>\n",
       "<style scoped>\n",
       "    .dataframe tbody tr th:only-of-type {\n",
       "        vertical-align: middle;\n",
       "    }\n",
       "\n",
       "    .dataframe tbody tr th {\n",
       "        vertical-align: top;\n",
       "    }\n",
       "\n",
       "    .dataframe thead th {\n",
       "        text-align: right;\n",
       "    }\n",
       "</style>\n",
       "<table border=\"1\" class=\"dataframe\">\n",
       "  <thead>\n",
       "    <tr style=\"text-align: right;\">\n",
       "      <th></th>\n",
       "      <th>age</th>\n",
       "      <th>gender</th>\n",
       "      <th>first_issue_time</th>\n",
       "      <th>first_redeem_time</th>\n",
       "      <th>issue_redeem_delay</th>\n",
       "    </tr>\n",
       "    <tr>\n",
       "      <th>client_id</th>\n",
       "      <th></th>\n",
       "      <th></th>\n",
       "      <th></th>\n",
       "      <th></th>\n",
       "      <th></th>\n",
       "    </tr>\n",
       "  </thead>\n",
       "  <tbody>\n",
       "    <tr>\n",
       "      <th>ad6561e2d8</th>\n",
       "      <td>50</td>\n",
       "      <td>F</td>\n",
       "      <td>1512322431</td>\n",
       "      <td>1.527102e+09</td>\n",
       "      <td>14779510.0</td>\n",
       "    </tr>\n",
       "    <tr>\n",
       "      <th>7c1ccbf93f</th>\n",
       "      <td>24</td>\n",
       "      <td>F</td>\n",
       "      <td>1510331629</td>\n",
       "      <td>1.519326e+09</td>\n",
       "      <td>8994516.0</td>\n",
       "    </tr>\n",
       "    <tr>\n",
       "      <th>b58fadcab6</th>\n",
       "      <td>36</td>\n",
       "      <td>U</td>\n",
       "      <td>1509657465</td>\n",
       "      <td>1.537045e+09</td>\n",
       "      <td>27387871.0</td>\n",
       "    </tr>\n",
       "    <tr>\n",
       "      <th>e99e6fabb9</th>\n",
       "      <td>79</td>\n",
       "      <td>F</td>\n",
       "      <td>1526466080</td>\n",
       "      <td>1.527713e+09</td>\n",
       "      <td>1247284.0</td>\n",
       "    </tr>\n",
       "    <tr>\n",
       "      <th>27fb6f8520</th>\n",
       "      <td>34</td>\n",
       "      <td>F</td>\n",
       "      <td>1500320188</td>\n",
       "      <td>1.513332e+09</td>\n",
       "      <td>13012137.0</td>\n",
       "    </tr>\n",
       "    <tr>\n",
       "      <th>...</th>\n",
       "      <td>...</td>\n",
       "      <td>...</td>\n",
       "      <td>...</td>\n",
       "      <td>...</td>\n",
       "      <td>...</td>\n",
       "    </tr>\n",
       "    <tr>\n",
       "      <th>999d284453</th>\n",
       "      <td>72</td>\n",
       "      <td>U</td>\n",
       "      <td>1540991437</td>\n",
       "      <td>1.554559e+09</td>\n",
       "      <td>13567144.0</td>\n",
       "    </tr>\n",
       "    <tr>\n",
       "      <th>f634deea4e</th>\n",
       "      <td>35</td>\n",
       "      <td>U</td>\n",
       "      <td>1517752292</td>\n",
       "      <td>1.520877e+09</td>\n",
       "      <td>3124210.0</td>\n",
       "    </tr>\n",
       "    <tr>\n",
       "      <th>16cb4f99b0</th>\n",
       "      <td>50</td>\n",
       "      <td>F</td>\n",
       "      <td>1519380153</td>\n",
       "      <td>1.559324e+09</td>\n",
       "      <td>39944103.0</td>\n",
       "    </tr>\n",
       "    <tr>\n",
       "      <th>23c2b72b2e</th>\n",
       "      <td>55</td>\n",
       "      <td>U</td>\n",
       "      <td>1498935933</td>\n",
       "      <td>1.508353e+09</td>\n",
       "      <td>9416669.0</td>\n",
       "    </tr>\n",
       "    <tr>\n",
       "      <th>1430184499</th>\n",
       "      <td>63</td>\n",
       "      <td>M</td>\n",
       "      <td>1495476307</td>\n",
       "      <td>1.519757e+09</td>\n",
       "      <td>24280332.0</td>\n",
       "    </tr>\n",
       "  </tbody>\n",
       "</table>\n",
       "<p>140027 rows × 5 columns</p>\n",
       "</div>"
      ],
      "text/plain": [
       "            age gender  first_issue_time  first_redeem_time  \\\n",
       "client_id                                                     \n",
       "ad6561e2d8   50      F        1512322431       1.527102e+09   \n",
       "7c1ccbf93f   24      F        1510331629       1.519326e+09   \n",
       "b58fadcab6   36      U        1509657465       1.537045e+09   \n",
       "e99e6fabb9   79      F        1526466080       1.527713e+09   \n",
       "27fb6f8520   34      F        1500320188       1.513332e+09   \n",
       "...         ...    ...               ...                ...   \n",
       "999d284453   72      U        1540991437       1.554559e+09   \n",
       "f634deea4e   35      U        1517752292       1.520877e+09   \n",
       "16cb4f99b0   50      F        1519380153       1.559324e+09   \n",
       "23c2b72b2e   55      U        1498935933       1.508353e+09   \n",
       "1430184499   63      M        1495476307       1.519757e+09   \n",
       "\n",
       "            issue_redeem_delay  \n",
       "client_id                       \n",
       "ad6561e2d8          14779510.0  \n",
       "7c1ccbf93f           8994516.0  \n",
       "b58fadcab6          27387871.0  \n",
       "e99e6fabb9           1247284.0  \n",
       "27fb6f8520          13012137.0  \n",
       "...                        ...  \n",
       "999d284453          13567144.0  \n",
       "f634deea4e           3124210.0  \n",
       "16cb4f99b0          39944103.0  \n",
       "23c2b72b2e           9416669.0  \n",
       "1430184499          24280332.0  \n",
       "\n",
       "[140027 rows x 5 columns]"
      ]
     },
     "execution_count": 78,
     "metadata": {},
     "output_type": "execute_result"
    }
   ],
   "source": [
    "X_train"
   ]
  },
  {
   "cell_type": "code",
   "execution_count": 36,
   "metadata": {},
   "outputs": [
    {
     "data": {
      "text/plain": [
       "client_id\n",
       "ad6561e2d8    1\n",
       "7c1ccbf93f    1\n",
       "b58fadcab6    1\n",
       "e99e6fabb9    0\n",
       "27fb6f8520    1\n",
       "             ..\n",
       "999d284453    1\n",
       "f634deea4e    0\n",
       "16cb4f99b0    0\n",
       "23c2b72b2e    1\n",
       "1430184499    0\n",
       "Name: treatment_flg, Length: 140027, dtype: int64"
      ]
     },
     "execution_count": 36,
     "metadata": {},
     "output_type": "execute_result"
    }
   ],
   "source": [
    "treat_train"
   ]
  },
  {
   "cell_type": "code",
   "execution_count": 30,
   "metadata": {},
   "outputs": [
    {
     "data": {
      "text/html": [
       "<div>\n",
       "<style scoped>\n",
       "    .dataframe tbody tr th:only-of-type {\n",
       "        vertical-align: middle;\n",
       "    }\n",
       "\n",
       "    .dataframe tbody tr th {\n",
       "        vertical-align: top;\n",
       "    }\n",
       "\n",
       "    .dataframe thead th {\n",
       "        text-align: right;\n",
       "    }\n",
       "</style>\n",
       "<table border=\"1\" class=\"dataframe\">\n",
       "  <thead>\n",
       "    <tr style=\"text-align: right;\">\n",
       "      <th></th>\n",
       "      <th>recency</th>\n",
       "      <th>history</th>\n",
       "      <th>used_discount</th>\n",
       "      <th>used_bogo</th>\n",
       "      <th>zip_code</th>\n",
       "      <th>is_referral</th>\n",
       "      <th>channel</th>\n",
       "      <th>treatment</th>\n",
       "    </tr>\n",
       "  </thead>\n",
       "  <tbody>\n",
       "    <tr>\n",
       "      <th>44233</th>\n",
       "      <td>10</td>\n",
       "      <td>29.99</td>\n",
       "      <td>1</td>\n",
       "      <td>0</td>\n",
       "      <td>Urban</td>\n",
       "      <td>0</td>\n",
       "      <td>Web</td>\n",
       "      <td>1</td>\n",
       "    </tr>\n",
       "    <tr>\n",
       "      <th>58749</th>\n",
       "      <td>9</td>\n",
       "      <td>60.25</td>\n",
       "      <td>0</td>\n",
       "      <td>1</td>\n",
       "      <td>Urban</td>\n",
       "      <td>0</td>\n",
       "      <td>Phone</td>\n",
       "      <td>0</td>\n",
       "    </tr>\n",
       "    <tr>\n",
       "      <th>56296</th>\n",
       "      <td>8</td>\n",
       "      <td>292.30</td>\n",
       "      <td>1</td>\n",
       "      <td>1</td>\n",
       "      <td>Urban</td>\n",
       "      <td>1</td>\n",
       "      <td>Web</td>\n",
       "      <td>1</td>\n",
       "    </tr>\n",
       "    <tr>\n",
       "      <th>23444</th>\n",
       "      <td>8</td>\n",
       "      <td>49.05</td>\n",
       "      <td>1</td>\n",
       "      <td>0</td>\n",
       "      <td>Urban</td>\n",
       "      <td>0</td>\n",
       "      <td>Phone</td>\n",
       "      <td>1</td>\n",
       "    </tr>\n",
       "    <tr>\n",
       "      <th>48936</th>\n",
       "      <td>12</td>\n",
       "      <td>324.32</td>\n",
       "      <td>1</td>\n",
       "      <td>0</td>\n",
       "      <td>Urban</td>\n",
       "      <td>0</td>\n",
       "      <td>Web</td>\n",
       "      <td>1</td>\n",
       "    </tr>\n",
       "    <tr>\n",
       "      <th>...</th>\n",
       "      <td>...</td>\n",
       "      <td>...</td>\n",
       "      <td>...</td>\n",
       "      <td>...</td>\n",
       "      <td>...</td>\n",
       "      <td>...</td>\n",
       "      <td>...</td>\n",
       "      <td>...</td>\n",
       "    </tr>\n",
       "    <tr>\n",
       "      <th>62570</th>\n",
       "      <td>3</td>\n",
       "      <td>276.21</td>\n",
       "      <td>0</td>\n",
       "      <td>1</td>\n",
       "      <td>Urban</td>\n",
       "      <td>0</td>\n",
       "      <td>Phone</td>\n",
       "      <td>1</td>\n",
       "    </tr>\n",
       "    <tr>\n",
       "      <th>38158</th>\n",
       "      <td>4</td>\n",
       "      <td>43.49</td>\n",
       "      <td>0</td>\n",
       "      <td>1</td>\n",
       "      <td>Urban</td>\n",
       "      <td>0</td>\n",
       "      <td>Phone</td>\n",
       "      <td>1</td>\n",
       "    </tr>\n",
       "    <tr>\n",
       "      <th>860</th>\n",
       "      <td>8</td>\n",
       "      <td>492.53</td>\n",
       "      <td>1</td>\n",
       "      <td>1</td>\n",
       "      <td>Rural</td>\n",
       "      <td>1</td>\n",
       "      <td>Phone</td>\n",
       "      <td>1</td>\n",
       "    </tr>\n",
       "    <tr>\n",
       "      <th>15795</th>\n",
       "      <td>5</td>\n",
       "      <td>72.28</td>\n",
       "      <td>1</td>\n",
       "      <td>0</td>\n",
       "      <td>Urban</td>\n",
       "      <td>1</td>\n",
       "      <td>Web</td>\n",
       "      <td>1</td>\n",
       "    </tr>\n",
       "    <tr>\n",
       "      <th>56422</th>\n",
       "      <td>3</td>\n",
       "      <td>787.51</td>\n",
       "      <td>1</td>\n",
       "      <td>1</td>\n",
       "      <td>Urban</td>\n",
       "      <td>1</td>\n",
       "      <td>Multichannel</td>\n",
       "      <td>0</td>\n",
       "    </tr>\n",
       "  </tbody>\n",
       "</table>\n",
       "<p>42880 rows × 8 columns</p>\n",
       "</div>"
      ],
      "text/plain": [
       "       recency  history  used_discount  used_bogo zip_code  is_referral  \\\n",
       "44233       10    29.99              1          0    Urban            0   \n",
       "58749        9    60.25              0          1    Urban            0   \n",
       "56296        8   292.30              1          1    Urban            1   \n",
       "23444        8    49.05              1          0    Urban            0   \n",
       "48936       12   324.32              1          0    Urban            0   \n",
       "...        ...      ...            ...        ...      ...          ...   \n",
       "62570        3   276.21              0          1    Urban            0   \n",
       "38158        4    43.49              0          1    Urban            0   \n",
       "860          8   492.53              1          1    Rural            1   \n",
       "15795        5    72.28              1          0    Urban            1   \n",
       "56422        3   787.51              1          1    Urban            1   \n",
       "\n",
       "            channel  treatment  \n",
       "44233           Web          1  \n",
       "58749         Phone          0  \n",
       "56296           Web          1  \n",
       "23444         Phone          1  \n",
       "48936           Web          1  \n",
       "...             ...        ...  \n",
       "62570         Phone          1  \n",
       "38158         Phone          1  \n",
       "860           Phone          1  \n",
       "15795           Web          1  \n",
       "56422  Multichannel          0  \n",
       "\n",
       "[42880 rows x 8 columns]"
      ]
     },
     "execution_count": 30,
     "metadata": {},
     "output_type": "execute_result"
    }
   ],
   "source": [
    "X_train"
   ]
  },
  {
   "cell_type": "code",
   "execution_count": 34,
   "metadata": {},
   "outputs": [
    {
     "data": {
      "text/html": [
       "<div>\n",
       "<style scoped>\n",
       "    .dataframe tbody tr th:only-of-type {\n",
       "        vertical-align: middle;\n",
       "    }\n",
       "\n",
       "    .dataframe tbody tr th {\n",
       "        vertical-align: top;\n",
       "    }\n",
       "\n",
       "    .dataframe thead th {\n",
       "        text-align: right;\n",
       "    }\n",
       "</style>\n",
       "<table border=\"1\" class=\"dataframe\">\n",
       "  <thead>\n",
       "    <tr style=\"text-align: right;\">\n",
       "      <th></th>\n",
       "      <th>treatment_flg</th>\n",
       "      <th>target</th>\n",
       "    </tr>\n",
       "    <tr>\n",
       "      <th>client_id</th>\n",
       "      <th></th>\n",
       "      <th></th>\n",
       "    </tr>\n",
       "  </thead>\n",
       "  <tbody>\n",
       "    <tr>\n",
       "      <th>000012768d</th>\n",
       "      <td>0</td>\n",
       "      <td>1</td>\n",
       "    </tr>\n",
       "    <tr>\n",
       "      <th>000036f903</th>\n",
       "      <td>1</td>\n",
       "      <td>1</td>\n",
       "    </tr>\n",
       "    <tr>\n",
       "      <th>00010925a5</th>\n",
       "      <td>1</td>\n",
       "      <td>1</td>\n",
       "    </tr>\n",
       "    <tr>\n",
       "      <th>0001f552b0</th>\n",
       "      <td>1</td>\n",
       "      <td>1</td>\n",
       "    </tr>\n",
       "    <tr>\n",
       "      <th>00020e7b18</th>\n",
       "      <td>1</td>\n",
       "      <td>1</td>\n",
       "    </tr>\n",
       "    <tr>\n",
       "      <th>...</th>\n",
       "      <td>...</td>\n",
       "      <td>...</td>\n",
       "    </tr>\n",
       "    <tr>\n",
       "      <th>fffe0abb97</th>\n",
       "      <td>0</td>\n",
       "      <td>0</td>\n",
       "    </tr>\n",
       "    <tr>\n",
       "      <th>fffe0ed719</th>\n",
       "      <td>0</td>\n",
       "      <td>1</td>\n",
       "    </tr>\n",
       "    <tr>\n",
       "      <th>fffea1204c</th>\n",
       "      <td>0</td>\n",
       "      <td>1</td>\n",
       "    </tr>\n",
       "    <tr>\n",
       "      <th>fffeca6d22</th>\n",
       "      <td>1</td>\n",
       "      <td>0</td>\n",
       "    </tr>\n",
       "    <tr>\n",
       "      <th>fffff6ce77</th>\n",
       "      <td>0</td>\n",
       "      <td>1</td>\n",
       "    </tr>\n",
       "  </tbody>\n",
       "</table>\n",
       "<p>200039 rows × 2 columns</p>\n",
       "</div>"
      ],
      "text/plain": [
       "            treatment_flg  target\n",
       "client_id                        \n",
       "000012768d              0       1\n",
       "000036f903              1       1\n",
       "00010925a5              1       1\n",
       "0001f552b0              1       1\n",
       "00020e7b18              1       1\n",
       "...                   ...     ...\n",
       "fffe0abb97              0       0\n",
       "fffe0ed719              0       1\n",
       "fffea1204c              0       1\n",
       "fffeca6d22              1       0\n",
       "fffff6ce77              0       1\n",
       "\n",
       "[200039 rows x 2 columns]"
      ]
     },
     "execution_count": 34,
     "metadata": {},
     "output_type": "execute_result"
    }
   ],
   "source": [
    "df_train"
   ]
  },
  {
   "cell_type": "markdown",
   "metadata": {},
   "source": [
    "### 1. Подходы с одной моделью\n",
    "#### 1.1 Одна модель с признаком коммуникации\n",
    "Самое простое и интуитивное решение: модель обучается одновременно на двух группах, при этом бинарный флаг коммуникации выступает в качестве дополнительного признака. Каждый объект из тестовой выборки скорим дважды: с флагом коммуникации равным 1 и равным 0. Вычитая вероятности по каждому наблюдению, получим искомы uplift."
   ]
  },
  {
   "cell_type": "markdown",
   "metadata": {},
   "source": [
    "![ab_split](uplift4.png \"uplift4\")"
   ]
  },
  {
   "cell_type": "code",
   "execution_count": 6,
   "metadata": {},
   "outputs": [],
   "source": [
    "# !pip install scikit-uplift==0.2.0"
   ]
  },
  {
   "cell_type": "code",
   "execution_count": 7,
   "metadata": {},
   "outputs": [
    {
     "name": "stdout",
     "output_type": "stream",
     "text": [
      "uplift@30%: 0.0573\n"
     ]
    },
    {
     "data": {
      "image/png": "[encoded data removed]",
      "text/plain": [
       "<Figure size 1440x504 with 3 Axes>"
      ]
     },
     "metadata": {
      "needs_background": "light"
     },
     "output_type": "display_data"
    }
   ],
   "source": [
    "# Инструкция по установке пакета: https://github.com/maks-sh/scikit-uplift\n",
    "# Ссылка на документацию: https://scikit-uplift.readthedocs.io/en/latest/\n",
    "from sklift.metrics import uplift_at_k\n",
    "from sklift.viz import plot_uplift_preds\n",
    "from sklift.models import SoloModel\n",
    "\n",
    "# sklift поддерживает любые модели, \n",
    "# которые удовлетворяют соглашениями scikit-learn\n",
    "# Для примера воспользуемся catboost\n",
    "from catboost import CatBoostClassifier\n",
    "\n",
    "\n",
    "sm = SoloModel(CatBoostClassifier(iterations=20, thread_count=2, random_state=42, silent=True))\n",
    "sm = sm.fit(X_train, y_train, treat_train, estimator_fit_params={'cat_features': cat_features})\n",
    "\n",
    "uplift_sm = sm.predict(X_val)\n",
    "\n",
    "sm_score = uplift_at_k(y_true=y_val, uplift=uplift_sm, treatment=treat_val, strategy='by_group', k=0.3)\n",
    "print(f'uplift@30%: {sm_score:.4f}')\n",
    "\n",
    "models_results['approach'].append('SoloModel')\n",
    "models_results['uplift@30%'].append(sm_score)\n",
    "\n",
    "# Получим условные вероятности выполнения целевого действия при взаимодействии для каждого объекта\n",
    "sm_trmnt_preds = sm.trmnt_preds_\n",
    "# И условные вероятности выполнения целевого действия без взаимодействия для каждого объекта\n",
    "sm_ctrl_preds = sm.ctrl_preds_\n",
    "\n",
    "# Отрисуем распределения вероятностей и их разность (uplift)\n",
    "plot_uplift_preds(trmnt_preds=sm_trmnt_preds, ctrl_preds=sm_ctrl_preds);"
   ]
  },
  {
   "cell_type": "code",
   "execution_count": null,
   "metadata": {},
   "outputs": [],
   "source": []
  },
  {
   "cell_type": "markdown",
   "metadata": {},
   "source": [
    "Посмотрим на топ-признаки"
   ]
  },
  {
   "cell_type": "code",
   "execution_count": 8,
   "metadata": {},
   "outputs": [
    {
     "data": {
      "text/html": [
       "<div>\n",
       "<style scoped>\n",
       "    .dataframe tbody tr th:only-of-type {\n",
       "        vertical-align: middle;\n",
       "    }\n",
       "\n",
       "    .dataframe tbody tr th {\n",
       "        vertical-align: top;\n",
       "    }\n",
       "\n",
       "    .dataframe thead th {\n",
       "        text-align: right;\n",
       "    }\n",
       "</style>\n",
       "<table border=\"1\" class=\"dataframe\">\n",
       "  <thead>\n",
       "    <tr style=\"text-align: right;\">\n",
       "      <th></th>\n",
       "      <th>feature_name</th>\n",
       "      <th>feature_score</th>\n",
       "    </tr>\n",
       "  </thead>\n",
       "  <tbody>\n",
       "    <tr>\n",
       "      <th>0</th>\n",
       "      <td>first_redeem_time</td>\n",
       "      <td>41.162563</td>\n",
       "    </tr>\n",
       "    <tr>\n",
       "      <th>1</th>\n",
       "      <td>issue_redeem_delay</td>\n",
       "      <td>38.676225</td>\n",
       "    </tr>\n",
       "    <tr>\n",
       "      <th>2</th>\n",
       "      <td>age</td>\n",
       "      <td>8.003793</td>\n",
       "    </tr>\n",
       "    <tr>\n",
       "      <th>3</th>\n",
       "      <td>first_issue_time</td>\n",
       "      <td>6.274424</td>\n",
       "    </tr>\n",
       "    <tr>\n",
       "      <th>4</th>\n",
       "      <td>treatment</td>\n",
       "      <td>3.431789</td>\n",
       "    </tr>\n",
       "    <tr>\n",
       "      <th>5</th>\n",
       "      <td>gender</td>\n",
       "      <td>2.451207</td>\n",
       "    </tr>\n",
       "  </tbody>\n",
       "</table>\n",
       "</div>"
      ],
      "text/plain": [
       "         feature_name  feature_score\n",
       "0   first_redeem_time      41.162563\n",
       "1  issue_redeem_delay      38.676225\n",
       "2                 age       8.003793\n",
       "3    first_issue_time       6.274424\n",
       "4           treatment       3.431789\n",
       "5              gender       2.451207"
      ]
     },
     "execution_count": 8,
     "metadata": {},
     "output_type": "execute_result"
    }
   ],
   "source": [
    "# С той же легкостью можно обратиться к обученной модели.\n",
    "# Например, чтобы построить важность признаков:\n",
    "sm_fi = pd.DataFrame({\n",
    "    'feature_name': sm.estimator.feature_names_,\n",
    "    'feature_score': sm.estimator.feature_importances_\n",
    "}).sort_values('feature_score', ascending=False).reset_index(drop=True)\n",
    "\n",
    "sm_fi"
   ]
  },
  {
   "cell_type": "markdown",
   "metadata": {},
   "source": [
    "#### 1.2 Трансформация классов\n",
    "Достаточно интересный и математически подтвержденный подход к построению модели, представленный еще в 2012 году. Метод заключается в прогнозировании немного измененного таргета:"
   ]
  },
  {
   "cell_type": "markdown",
   "metadata": {},
   "source": [
    "![ab_split](uplift5.png \"uplift5\")"
   ]
  },
  {
   "cell_type": "markdown",
   "metadata": {},
   "source": [
    "![ab_split](uplift_client_types.png \"uplift_client_types\")"
   ]
  },
  {
   "cell_type": "code",
   "execution_count": 9,
   "metadata": {},
   "outputs": [
    {
     "name": "stderr",
     "output_type": "stream",
     "text": [
      "<ipython-input-9-6e5ebc9c94ea>:5: UserWarning: It is recommended to use this approach on treatment balanced data. Current sample size is unbalanced.\n",
      "  ct = ct.fit(X_train, y_train, treat_train, estimator_fit_params={'cat_features': cat_features})\n"
     ]
    }
   ],
   "source": [
    "from sklift.models import ClassTransformation\n",
    "\n",
    "\n",
    "ct = ClassTransformation(CatBoostClassifier(iterations=20, thread_count=2, random_state=42, silent=True))\n",
    "ct = ct.fit(X_train, y_train, treat_train, estimator_fit_params={'cat_features': cat_features})\n",
    "\n",
    "uplift_ct = ct.predict(X_val)\n",
    "\n",
    "ct_score = uplift_at_k(y_true=y_val, uplift=uplift_ct, treatment=treat_val, strategy='by_group', k=0.3)\n",
    "\n",
    "models_results['approach'].append('ClassTransformation')\n",
    "models_results['uplift@30%'].append(ct_score)"
   ]
  },
  {
   "cell_type": "markdown",
   "metadata": {},
   "source": [
    "#### 2.1 Две независимые модели\n",
    "Как понятно из названия, подход заключается в моделировании условных вероятностей тестовой и контрольной групп отдельно. В статьях утверждается, что такой подход достаточно слабый, так как обе модели фокусируются на прогнозировании результата отдельно и поэтому могут пропустить \"более слабые\" различия в выборках."
   ]
  },
  {
   "cell_type": "markdown",
   "metadata": {},
   "source": [
    "![ab_split](uplift6.png \"uplift6\")"
   ]
  },
  {
   "cell_type": "code",
   "execution_count": 10,
   "metadata": {},
   "outputs": [
    {
     "data": {
      "image/png": "[encoded data removed]",
      "text/plain": [
       "<Figure size 1440x504 with 3 Axes>"
      ]
     },
     "metadata": {
      "needs_background": "light"
     },
     "output_type": "display_data"
    }
   ],
   "source": [
    "from sklift.models import TwoModels\n",
    "\n",
    "\n",
    "tm = TwoModels(\n",
    "    estimator_trmnt=CatBoostClassifier(iterations=20, thread_count=2, random_state=42, silent=True), \n",
    "    estimator_ctrl=CatBoostClassifier(iterations=20, thread_count=2, random_state=42, silent=True), \n",
    "    method='vanilla'\n",
    ")\n",
    "tm = tm.fit(\n",
    "    X_train, y_train, treat_train,\n",
    "    estimator_trmnt_fit_params={'cat_features': cat_features}, \n",
    "    estimator_ctrl_fit_params={'cat_features': cat_features}\n",
    ")\n",
    "\n",
    "uplift_tm = tm.predict(X_val)\n",
    "\n",
    "tm_score = uplift_at_k(y_true=y_val, uplift=uplift_tm, treatment=treat_val, strategy='by_group', k=0.3)\n",
    "\n",
    "models_results['approach'].append('TwoModels')\n",
    "models_results['uplift@30%'].append(tm_score)\n",
    "\n",
    "plot_uplift_preds(trmnt_preds=tm.trmnt_preds_, ctrl_preds=tm.ctrl_preds_);"
   ]
  },
  {
   "cell_type": "markdown",
   "metadata": {},
   "source": [
    "Посмотрим на результаты"
   ]
  },
  {
   "cell_type": "code",
   "execution_count": 11,
   "metadata": {},
   "outputs": [
    {
     "data": {
      "text/html": [
       "<div>\n",
       "<style scoped>\n",
       "    .dataframe tbody tr th:only-of-type {\n",
       "        vertical-align: middle;\n",
       "    }\n",
       "\n",
       "    .dataframe tbody tr th {\n",
       "        vertical-align: top;\n",
       "    }\n",
       "\n",
       "    .dataframe thead th {\n",
       "        text-align: right;\n",
       "    }\n",
       "</style>\n",
       "<table border=\"1\" class=\"dataframe\">\n",
       "  <thead>\n",
       "    <tr style=\"text-align: right;\">\n",
       "      <th></th>\n",
       "      <th>approach</th>\n",
       "      <th>uplift@30%</th>\n",
       "    </tr>\n",
       "  </thead>\n",
       "  <tbody>\n",
       "    <tr>\n",
       "      <th>0</th>\n",
       "      <td>SoloModel</td>\n",
       "      <td>0.057262</td>\n",
       "    </tr>\n",
       "    <tr>\n",
       "      <th>1</th>\n",
       "      <td>ClassTransformation</td>\n",
       "      <td>0.053981</td>\n",
       "    </tr>\n",
       "    <tr>\n",
       "      <th>2</th>\n",
       "      <td>TwoModels</td>\n",
       "      <td>0.049310</td>\n",
       "    </tr>\n",
       "  </tbody>\n",
       "</table>\n",
       "</div>"
      ],
      "text/plain": [
       "              approach  uplift@30%\n",
       "0            SoloModel    0.057262\n",
       "1  ClassTransformation    0.053981\n",
       "2            TwoModels    0.049310"
      ]
     },
     "execution_count": 11,
     "metadata": {},
     "output_type": "execute_result"
    }
   ],
   "source": [
    "pd.DataFrame(data=models_results).sort_values('uplift@30%', ascending=False)"
   ]
  },
  {
   "cell_type": "markdown",
   "metadata": {},
   "source": [
    "#### Вариант с деревом решений"
   ]
  },
  {
   "cell_type": "code",
   "execution_count": 12,
   "metadata": {},
   "outputs": [],
   "source": [
    "X_train_tree = pd.concat([X_train.drop('gender', 1), \n",
    "                          pd.get_dummies(X_train['gender'], prefix='gender')], 1)\n",
    "features = [col for col in X_train_tree]"
   ]
  },
  {
   "cell_type": "code",
   "execution_count": 13,
   "metadata": {},
   "outputs": [],
   "source": [
    "# !git clone https://github.com/ub8er/causalml.git\n",
    "# %cd causalml\n",
    "#!pip install -r requirements.txt\n",
    "# !python setup.py build_ext --inplace\n",
    "# !python setup.py install"
   ]
  },
  {
   "cell_type": "code",
   "execution_count": 14,
   "metadata": {
    "scrolled": true
   },
   "outputs": [
    {
     "ename": "ModuleNotFoundError",
     "evalue": "No module named 'causalml.inference'",
     "output_type": "error",
     "traceback": [
      "\u001b[1;31m---------------------------------------------------------------------------\u001b[0m",
      "\u001b[1;31mModuleNotFoundError\u001b[0m                       Traceback (most recent call last)",
      "\u001b[1;32m<timed exec>\u001b[0m in \u001b[0;36m<module>\u001b[1;34m\u001b[0m\n",
      "\u001b[1;31mModuleNotFoundError\u001b[0m: No module named 'causalml.inference'"
     ]
    }
   ],
   "source": [
    "%%time\n",
    "from IPython.display import Image\n",
    "from causalml.inference.tree import UpliftTreeClassifier, UpliftRandomForestClassifier\n",
    "from causalml.inference.tree import uplift_tree_string, uplift_tree_plot\n",
    "\n",
    "uplift_model = UpliftTreeClassifier(max_depth=8, min_samples_leaf=200, min_samples_treatment=50,\n",
    "                                    n_reg=100, evaluationFunction='KL', control_name='control')\n",
    "\n",
    "uplift_model.fit(X_train_tree.values,\n",
    "                 treatment=treat_train.map({1: 'treatment1', 0: 'control'}).values,\n",
    "                 y=y_train)\n",
    "\n",
    "graph = uplift_tree_plot(uplift_model.fitted_uplift_tree, features)\n",
    "Image(graph.create_png())"
   ]
  },
  {
   "cell_type": "markdown",
   "metadata": {},
   "source": [
    "### Домашнее задание"
   ]
  },
  {
   "cell_type": "markdown",
   "metadata": {},
   "source": [
    "1. скачать набор данных маркетинговых кампаний отсюда https://www.kaggle.com/davinwijaya/customer-retention\n",
    "2. там поле conversion - это целевая переменная, а offer - коммуникация. Переименовать поля (conversion -> target, offer -> treatment) и привести поле treatment к бинарному виду (1 или 0, т.е было какое-то предложение или нет) - значение No Offer означает отсутствие коммуникации, а все остальные - наличие.\n",
    "3. сделать разбиение набора данных не тренировочную и тестовую выборки\n",
    "4. сделать feature engineering на ваше усмотрение (допускается свобода выбора методов)\n",
    "5. провести uplift-моделирование 3 способами: одна модель с признаком коммуникации (S learner), модель с трансформацией таргета (трансформация классов п. 2. 1) и вариант с двумя независимыми моделями\n",
    "6. в конце вывести единую таблицу сравнения метрик uplift@10%, uplift@20% этих 3 моделей\n",
    "7. построить модель UpliftTreeClassifier и попытаться описать словами полученное дерево\n",
    "8. (опционально) для модели S learner (модель с дополнительным признаком коммуникации) построить зависимость таргета (конверсии - поле conversion) от значения uplift: 1) сделать прогноз и получить uplift для тестовой выборки 2) отсортировать тестовую выборку по uplift по убыванию 3) разбить на децили (pandas qcut вам в помощь) 4) для каждого дециля посчитать среднюю conversion\n",
    "9. (опционально) построить модель UpliftRandomForestClassifier и попытаться описать словами полученное дерево"
   ]
  },
  {
   "cell_type": "markdown",
   "metadata": {},
   "source": [
    "### Ссылки\n",
    "\n",
    "1. https://towardsdatascience.com/a-quick-uplift-modeling-introduction-6e14de32bfe0\n",
    "2. https://habr.com/ru/company/ru_mts/blog/485980/#reference1\n",
    "3. https://en.wikipedia.org/wiki/Uplift_modelling\n",
    "4. https://www.youtube.com/watch?v=yFQAIJBYXI0\n",
    "5. https://www.youtube.com/watch?v=jCUcYiBK03I\n",
    "6. https://www.uplift-modeling.com/en/latest/\n",
    "7. https://arxiv.org/pdf/1809.04559.pdf\n",
    "8. https://catboost.ai/docs/concepts/about.html"
   ]
  },
  {
   "cell_type": "markdown",
   "metadata": {},
   "source": [
    "### Библиотеки и пакеты\n",
    "\n",
    "1. causalml\n",
    "2. sklift\n",
    "3. catboost"
   ]
  },
  {
   "cell_type": "code",
   "execution_count": 202,
   "metadata": {},
   "outputs": [
    {
     "data": {
      "text/html": [
       "<div>\n",
       "<style scoped>\n",
       "    .dataframe tbody tr th:only-of-type {\n",
       "        vertical-align: middle;\n",
       "    }\n",
       "\n",
       "    .dataframe tbody tr th {\n",
       "        vertical-align: top;\n",
       "    }\n",
       "\n",
       "    .dataframe thead th {\n",
       "        text-align: right;\n",
       "    }\n",
       "</style>\n",
       "<table border=\"1\" class=\"dataframe\">\n",
       "  <thead>\n",
       "    <tr style=\"text-align: right;\">\n",
       "      <th></th>\n",
       "      <th>recency</th>\n",
       "      <th>history</th>\n",
       "      <th>used_discount</th>\n",
       "      <th>used_bogo</th>\n",
       "      <th>zip_code</th>\n",
       "      <th>is_referral</th>\n",
       "      <th>channel</th>\n",
       "      <th>offer</th>\n",
       "      <th>conversion</th>\n",
       "    </tr>\n",
       "  </thead>\n",
       "  <tbody>\n",
       "    <tr>\n",
       "      <th>0</th>\n",
       "      <td>10</td>\n",
       "      <td>142.44</td>\n",
       "      <td>1</td>\n",
       "      <td>0</td>\n",
       "      <td>Surburban</td>\n",
       "      <td>0</td>\n",
       "      <td>Phone</td>\n",
       "      <td>Buy One Get One</td>\n",
       "      <td>0</td>\n",
       "    </tr>\n",
       "    <tr>\n",
       "      <th>1</th>\n",
       "      <td>6</td>\n",
       "      <td>329.08</td>\n",
       "      <td>1</td>\n",
       "      <td>1</td>\n",
       "      <td>Rural</td>\n",
       "      <td>1</td>\n",
       "      <td>Web</td>\n",
       "      <td>No Offer</td>\n",
       "      <td>0</td>\n",
       "    </tr>\n",
       "    <tr>\n",
       "      <th>2</th>\n",
       "      <td>7</td>\n",
       "      <td>180.65</td>\n",
       "      <td>0</td>\n",
       "      <td>1</td>\n",
       "      <td>Surburban</td>\n",
       "      <td>1</td>\n",
       "      <td>Web</td>\n",
       "      <td>Buy One Get One</td>\n",
       "      <td>0</td>\n",
       "    </tr>\n",
       "    <tr>\n",
       "      <th>3</th>\n",
       "      <td>9</td>\n",
       "      <td>675.83</td>\n",
       "      <td>1</td>\n",
       "      <td>0</td>\n",
       "      <td>Rural</td>\n",
       "      <td>1</td>\n",
       "      <td>Web</td>\n",
       "      <td>Discount</td>\n",
       "      <td>0</td>\n",
       "    </tr>\n",
       "    <tr>\n",
       "      <th>4</th>\n",
       "      <td>2</td>\n",
       "      <td>45.34</td>\n",
       "      <td>1</td>\n",
       "      <td>0</td>\n",
       "      <td>Urban</td>\n",
       "      <td>0</td>\n",
       "      <td>Web</td>\n",
       "      <td>Buy One Get One</td>\n",
       "      <td>0</td>\n",
       "    </tr>\n",
       "  </tbody>\n",
       "</table>\n",
       "</div>"
      ],
      "text/plain": [
       "   recency  history  used_discount  used_bogo   zip_code  is_referral channel  \\\n",
       "0       10   142.44              1          0  Surburban            0   Phone   \n",
       "1        6   329.08              1          1      Rural            1     Web   \n",
       "2        7   180.65              0          1  Surburban            1     Web   \n",
       "3        9   675.83              1          0      Rural            1     Web   \n",
       "4        2    45.34              1          0      Urban            0     Web   \n",
       "\n",
       "             offer  conversion  \n",
       "0  Buy One Get One           0  \n",
       "1         No Offer           0  \n",
       "2  Buy One Get One           0  \n",
       "3         Discount           0  \n",
       "4  Buy One Get One           0  "
      ]
     },
     "execution_count": 202,
     "metadata": {},
     "output_type": "execute_result"
    }
   ],
   "source": [
    "df = pd.read_csv('data.csv')\n",
    "df.head()"
   ]
  },
  {
   "cell_type": "code",
   "execution_count": 203,
   "metadata": {},
   "outputs": [],
   "source": [
    "df.rename(columns = {'conversion':'target', 'offer': 'treatment'}, inplace =True)\n",
    "df = df.replace({'treatment':{'Buy One Get One': 1, 'No Offer': 0, 'Discount': 1 }})"
   ]
  },
  {
   "cell_type": "code",
   "execution_count": 204,
   "metadata": {},
   "outputs": [],
   "source": [
    "features = ['recency','history','used_discount','used_bogo','zip_code','is_referral','channel','treatment']\n",
    "target = 'target'"
   ]
  },
  {
   "cell_type": "code",
   "execution_count": 205,
   "metadata": {},
   "outputs": [],
   "source": [
    "X_train, X_test, y_train, y_test = train_test_split(df[features], df[target], test_size = 0.33, random_state = 42)"
   ]
  },
  {
   "cell_type": "code",
   "execution_count": 206,
   "metadata": {},
   "outputs": [
    {
     "data": {
      "text/html": [
       "<div>\n",
       "<style scoped>\n",
       "    .dataframe tbody tr th:only-of-type {\n",
       "        vertical-align: middle;\n",
       "    }\n",
       "\n",
       "    .dataframe tbody tr th {\n",
       "        vertical-align: top;\n",
       "    }\n",
       "\n",
       "    .dataframe thead th {\n",
       "        text-align: right;\n",
       "    }\n",
       "</style>\n",
       "<table border=\"1\" class=\"dataframe\">\n",
       "  <thead>\n",
       "    <tr style=\"text-align: right;\">\n",
       "      <th></th>\n",
       "      <th>recency</th>\n",
       "      <th>history</th>\n",
       "      <th>used_discount</th>\n",
       "      <th>used_bogo</th>\n",
       "      <th>zip_code</th>\n",
       "      <th>is_referral</th>\n",
       "      <th>channel</th>\n",
       "      <th>treatment</th>\n",
       "    </tr>\n",
       "  </thead>\n",
       "  <tbody>\n",
       "    <tr>\n",
       "      <th>44233</th>\n",
       "      <td>10</td>\n",
       "      <td>29.99</td>\n",
       "      <td>1</td>\n",
       "      <td>0</td>\n",
       "      <td>Urban</td>\n",
       "      <td>0</td>\n",
       "      <td>Web</td>\n",
       "      <td>1</td>\n",
       "    </tr>\n",
       "    <tr>\n",
       "      <th>58749</th>\n",
       "      <td>9</td>\n",
       "      <td>60.25</td>\n",
       "      <td>0</td>\n",
       "      <td>1</td>\n",
       "      <td>Urban</td>\n",
       "      <td>0</td>\n",
       "      <td>Phone</td>\n",
       "      <td>0</td>\n",
       "    </tr>\n",
       "    <tr>\n",
       "      <th>56296</th>\n",
       "      <td>8</td>\n",
       "      <td>292.30</td>\n",
       "      <td>1</td>\n",
       "      <td>1</td>\n",
       "      <td>Urban</td>\n",
       "      <td>1</td>\n",
       "      <td>Web</td>\n",
       "      <td>1</td>\n",
       "    </tr>\n",
       "    <tr>\n",
       "      <th>23444</th>\n",
       "      <td>8</td>\n",
       "      <td>49.05</td>\n",
       "      <td>1</td>\n",
       "      <td>0</td>\n",
       "      <td>Urban</td>\n",
       "      <td>0</td>\n",
       "      <td>Phone</td>\n",
       "      <td>1</td>\n",
       "    </tr>\n",
       "    <tr>\n",
       "      <th>48936</th>\n",
       "      <td>12</td>\n",
       "      <td>324.32</td>\n",
       "      <td>1</td>\n",
       "      <td>0</td>\n",
       "      <td>Urban</td>\n",
       "      <td>0</td>\n",
       "      <td>Web</td>\n",
       "      <td>1</td>\n",
       "    </tr>\n",
       "    <tr>\n",
       "      <th>...</th>\n",
       "      <td>...</td>\n",
       "      <td>...</td>\n",
       "      <td>...</td>\n",
       "      <td>...</td>\n",
       "      <td>...</td>\n",
       "      <td>...</td>\n",
       "      <td>...</td>\n",
       "      <td>...</td>\n",
       "    </tr>\n",
       "    <tr>\n",
       "      <th>62570</th>\n",
       "      <td>3</td>\n",
       "      <td>276.21</td>\n",
       "      <td>0</td>\n",
       "      <td>1</td>\n",
       "      <td>Urban</td>\n",
       "      <td>0</td>\n",
       "      <td>Phone</td>\n",
       "      <td>1</td>\n",
       "    </tr>\n",
       "    <tr>\n",
       "      <th>38158</th>\n",
       "      <td>4</td>\n",
       "      <td>43.49</td>\n",
       "      <td>0</td>\n",
       "      <td>1</td>\n",
       "      <td>Urban</td>\n",
       "      <td>0</td>\n",
       "      <td>Phone</td>\n",
       "      <td>1</td>\n",
       "    </tr>\n",
       "    <tr>\n",
       "      <th>860</th>\n",
       "      <td>8</td>\n",
       "      <td>492.53</td>\n",
       "      <td>1</td>\n",
       "      <td>1</td>\n",
       "      <td>Rural</td>\n",
       "      <td>1</td>\n",
       "      <td>Phone</td>\n",
       "      <td>1</td>\n",
       "    </tr>\n",
       "    <tr>\n",
       "      <th>15795</th>\n",
       "      <td>5</td>\n",
       "      <td>72.28</td>\n",
       "      <td>1</td>\n",
       "      <td>0</td>\n",
       "      <td>Urban</td>\n",
       "      <td>1</td>\n",
       "      <td>Web</td>\n",
       "      <td>1</td>\n",
       "    </tr>\n",
       "    <tr>\n",
       "      <th>56422</th>\n",
       "      <td>3</td>\n",
       "      <td>787.51</td>\n",
       "      <td>1</td>\n",
       "      <td>1</td>\n",
       "      <td>Urban</td>\n",
       "      <td>1</td>\n",
       "      <td>Multichannel</td>\n",
       "      <td>0</td>\n",
       "    </tr>\n",
       "  </tbody>\n",
       "</table>\n",
       "<p>42880 rows × 8 columns</p>\n",
       "</div>"
      ],
      "text/plain": [
       "       recency  history  used_discount  used_bogo zip_code  is_referral  \\\n",
       "44233       10    29.99              1          0    Urban            0   \n",
       "58749        9    60.25              0          1    Urban            0   \n",
       "56296        8   292.30              1          1    Urban            1   \n",
       "23444        8    49.05              1          0    Urban            0   \n",
       "48936       12   324.32              1          0    Urban            0   \n",
       "...        ...      ...            ...        ...      ...          ...   \n",
       "62570        3   276.21              0          1    Urban            0   \n",
       "38158        4    43.49              0          1    Urban            0   \n",
       "860          8   492.53              1          1    Rural            1   \n",
       "15795        5    72.28              1          0    Urban            1   \n",
       "56422        3   787.51              1          1    Urban            1   \n",
       "\n",
       "            channel  treatment  \n",
       "44233           Web          1  \n",
       "58749         Phone          0  \n",
       "56296           Web          1  \n",
       "23444         Phone          1  \n",
       "48936           Web          1  \n",
       "...             ...        ...  \n",
       "62570         Phone          1  \n",
       "38158         Phone          1  \n",
       "860           Phone          1  \n",
       "15795           Web          1  \n",
       "56422  Multichannel          0  \n",
       "\n",
       "[42880 rows x 8 columns]"
      ]
     },
     "execution_count": 206,
     "metadata": {},
     "output_type": "execute_result"
    }
   ],
   "source": [
    "X_train "
   ]
  },
  {
   "cell_type": "markdown",
   "metadata": {},
   "source": [
    "одна модель"
   ]
  },
  {
   "cell_type": "code",
   "execution_count": 207,
   "metadata": {},
   "outputs": [],
   "source": [
    "treat_train = X_train['treatment']\n",
    "X_train = X_train.drop(columns = 'treatment')\n",
    "cat_features = ['zip_code','channel']"
   ]
  },
  {
   "cell_type": "code",
   "execution_count": 208,
   "metadata": {},
   "outputs": [
    {
     "name": "stdout",
     "output_type": "stream",
     "text": [
      "<class 'pandas.core.frame.DataFrame'>\n",
      "RangeIndex: 64000 entries, 0 to 63999\n",
      "Data columns (total 9 columns):\n",
      " #   Column         Non-Null Count  Dtype  \n",
      "---  ------         --------------  -----  \n",
      " 0   recency        64000 non-null  int64  \n",
      " 1   history        64000 non-null  float64\n",
      " 2   used_discount  64000 non-null  int64  \n",
      " 3   used_bogo      64000 non-null  int64  \n",
      " 4   zip_code       64000 non-null  object \n",
      " 5   is_referral    64000 non-null  int64  \n",
      " 6   channel        64000 non-null  object \n",
      " 7   treatment      64000 non-null  int64  \n",
      " 8   target         64000 non-null  int64  \n",
      "dtypes: float64(1), int64(6), object(2)\n",
      "memory usage: 4.4+ MB\n"
     ]
    }
   ],
   "source": [
    "df.info()"
   ]
  },
  {
   "cell_type": "code",
   "execution_count": 209,
   "metadata": {},
   "outputs": [],
   "source": [
    "sl= SoloModel(CatBoostClassifier(iterations=20, thread_count=2, random_state=42, silent=True))"
   ]
  },
  {
   "cell_type": "code",
   "execution_count": 210,
   "metadata": {},
   "outputs": [],
   "source": [
    "sl = sl.fit(X_train, y_train, treat_train, estimator_fit_params={'cat_features': cat_features})"
   ]
  },
  {
   "cell_type": "code",
   "execution_count": 211,
   "metadata": {},
   "outputs": [],
   "source": [
    "treat_val = X_test['treatment']\n",
    "X_test = X_test.drop(columns = 'treatment')\n",
    "uplift_sl = sl.predict(X_test)"
   ]
  },
  {
   "cell_type": "code",
   "execution_count": 212,
   "metadata": {},
   "outputs": [],
   "source": [
    "models_results = {\n",
    "    'approach': [],\n",
    "    'uplift@10%': [],\n",
    "    'uplift@20%': [],\n",
    "    'uplift@30%': []\n",
    "}"
   ]
  },
  {
   "cell_type": "code",
   "execution_count": 213,
   "metadata": {},
   "outputs": [],
   "source": [
    "models_results['approach'].append('SoloModel')\n",
    "sl_score = uplift_at_k(y_true=y_test, uplift=uplift_sl, treatment=treat_val, strategy='by_group', k=0.1)\n",
    "models_results['uplift@10%'].append(sl_score)\n",
    "sl_score = uplift_at_k(y_true=y_test, uplift=uplift_sl, treatment=treat_val, strategy='by_group', k=0.2)\n",
    "models_results['uplift@20%'].append(sl_score)\n",
    "sl_score = uplift_at_k(y_true=y_test, uplift=uplift_sl, treatment=treat_val, strategy='by_group', k=0.3)\n",
    "models_results['uplift@30%'].append(sl_score)"
   ]
  },
  {
   "cell_type": "code",
   "execution_count": 214,
   "metadata": {},
   "outputs": [
    {
     "data": {
      "image/png": "[encoded data removed]",
      "text/plain": [
       "<Figure size 1440x504 with 3 Axes>"
      ]
     },
     "metadata": {
      "needs_background": "light"
     },
     "output_type": "display_data"
    }
   ],
   "source": [
    "# Получим условные вероятности выполнения целевого действия при взаимодействии для каждого объекта\n",
    "sl_trmnt_preds = sl.trmnt_preds_\n",
    "# И условные вероятности выполнения целевого действия без взаимодействия для каждого объекта\n",
    "sl_ctrl_preds = sl.ctrl_preds_\n",
    "\n",
    "# Отрисуем распределения вероятностей и их разность (uplift)\n",
    "plot_uplift_preds(trmnt_preds=sl_trmnt_preds, ctrl_preds=sl_ctrl_preds);"
   ]
  },
  {
   "cell_type": "code",
   "execution_count": 215,
   "metadata": {},
   "outputs": [
    {
     "name": "stderr",
     "output_type": "stream",
     "text": [
      "<ipython-input-215-c520d2d00626>:2: UserWarning: It is recommended to use this approach on treatment balanced data. Current sample size is unbalanced.\n",
      "  ct = ct.fit(X_train, y_train, treat_train, estimator_fit_params={'cat_features': cat_features})\n"
     ]
    }
   ],
   "source": [
    "ct = ClassTransformation(CatBoostClassifier(iterations=20, thread_count=2, random_state=42, silent=True))\n",
    "ct = ct.fit(X_train, y_train, treat_train, estimator_fit_params={'cat_features': cat_features})\n",
    "\n",
    "uplift_ct = ct.predict(X_test)\n",
    "\n",
    "\n",
    "\n",
    "models_results['approach'].append('ClassTransformation')\n",
    "\n",
    "ct_score = uplift_at_k(y_true=y_test, uplift=uplift_ct, treatment=treat_val, strategy='by_group', k=0.1)\n",
    "models_results['uplift@10%'].append(ct_score)\n",
    "ct_score = uplift_at_k(y_true=y_test, uplift=uplift_ct, treatment=treat_val, strategy='by_group', k=0.2)\n",
    "models_results['uplift@20%'].append(ct_score)\n",
    "ct_score = uplift_at_k(y_true=y_test, uplift=uplift_ct, treatment=treat_val, strategy='by_group', k=0.3)\n",
    "models_results['uplift@30%'].append(ct_score)"
   ]
  },
  {
   "cell_type": "code",
   "execution_count": 216,
   "metadata": {},
   "outputs": [
    {
     "data": {
      "image/png": "[encoded data removed]",
      "text/plain": [
       "<Figure size 1440x504 with 3 Axes>"
      ]
     },
     "metadata": {
      "needs_background": "light"
     },
     "output_type": "display_data"
    }
   ],
   "source": [
    "tm = TwoModels(\n",
    "    estimator_trmnt=CatBoostClassifier(iterations=20, thread_count=2, random_state=42, silent=True), \n",
    "    estimator_ctrl=CatBoostClassifier(iterations=20, thread_count=2, random_state=42, silent=True), \n",
    "    method='vanilla'\n",
    ")\n",
    "tm = tm.fit(\n",
    "    X_train, y_train, treat_train,\n",
    "    estimator_trmnt_fit_params={'cat_features': cat_features}, \n",
    "    estimator_ctrl_fit_params={'cat_features': cat_features}\n",
    ")\n",
    "\n",
    "uplift_tm = tm.predict(X_test)\n",
    "\n",
    "\n",
    "\n",
    "models_results['approach'].append('TwoModels')\n",
    "\n",
    "tm_score = uplift_at_k(y_true=y_test, uplift=uplift_tm, treatment=treat_val, strategy='by_group', k=0.1)\n",
    "models_results['uplift@10%'].append(tm_score)\n",
    "tm_score = uplift_at_k(y_true=y_test, uplift=uplift_tm, treatment=treat_val, strategy='by_group', k=0.2)\n",
    "models_results['uplift@20%'].append(tm_score)\n",
    "tm_score = uplift_at_k(y_true=y_test, uplift=uplift_tm, treatment=treat_val, strategy='by_group', k=0.3)\n",
    "models_results['uplift@30%'].append(tm_score)\n",
    "plot_uplift_preds(trmnt_preds=tm.trmnt_preds_, ctrl_preds=tm.ctrl_preds_);"
   ]
  },
  {
   "cell_type": "code",
   "execution_count": 217,
   "metadata": {},
   "outputs": [
    {
     "data": {
      "text/plain": [
       "{'approach': ['SoloModel', 'ClassTransformation', 'TwoModels'],\n",
       " 'uplift@10%': [0.1088698148841667, 0.11553330031288886, 0.0890041919856965],\n",
       " 'uplift@20%': [0.10660797562188154, 0.0988773526232844, 0.09611312719009579],\n",
       " 'uplift@30%': [0.09599496995948023, 0.09340002794466956, 0.08605057985189324]}"
      ]
     },
     "execution_count": 217,
     "metadata": {},
     "output_type": "execute_result"
    }
   ],
   "source": [
    "models_results"
   ]
  }
 ],
 "metadata": {
  "kernelspec": {
   "display_name": "Python 3",
   "language": "python",
   "name": "python3"
  },
  "language_info": {
   "codemirror_mode": {
    "name": "ipython",
    "version": 3
   },
   "file_extension": ".py",
   "mimetype": "text/x-python",
   "name": "python",
   "nbconvert_exporter": "python",
   "pygments_lexer": "ipython3",
   "version": "3.8.5"
  }
 },
 "nbformat": 4,
 "nbformat_minor": 2
}
